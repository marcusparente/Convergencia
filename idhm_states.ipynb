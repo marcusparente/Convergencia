{
 "cells": [
  {
   "cell_type": "markdown",
   "id": "bfdcec96-213d-443a-af8f-37d9a44dbacc",
   "metadata": {},
   "source": [
    "## Dataframe indicador - IDHM: Índice de Desenvolvimento Humano Municipal"
   ]
  },
  {
   "cell_type": "code",
   "execution_count": 1,
   "id": "ec005996-4393-4fce-a615-1434c092b99b",
   "metadata": {
    "tags": []
   },
   "outputs": [],
   "source": [
    "from bs4 import BeautifulSoup\n",
    "import requests\n",
    "import pandas as pd\n",
    "import os\n",
    "import csv\n",
    "import json"
   ]
  },
  {
   "cell_type": "code",
   "execution_count": 2,
   "id": "b5f82774-0f09-4990-819c-9c30412f20eb",
   "metadata": {
    "tags": []
   },
   "outputs": [],
   "source": [
    "!pip install --upgrade matplotlib --quiet"
   ]
  },
  {
   "cell_type": "code",
   "execution_count": 3,
   "id": "fda2f986-cf65-4b15-8964-43e5d4b74f19",
   "metadata": {
    "tags": []
   },
   "outputs": [],
   "source": [
    "!pip install --upgrade seaborn --quiet"
   ]
  },
  {
   "cell_type": "code",
   "execution_count": 4,
   "id": "ff1a5835-c3f4-4b36-8afa-de57e98088b9",
   "metadata": {
    "tags": []
   },
   "outputs": [],
   "source": [
    "import numpy as np"
   ]
  },
  {
   "cell_type": "code",
   "execution_count": 5,
   "id": "0ac2d057-8e7d-462b-baee-b5098b11decf",
   "metadata": {
    "tags": []
   },
   "outputs": [],
   "source": [
    "import matplotlib.pyplot as plt\n",
    "#para conseguir visualizar os gráficos no notebook\n",
    "%matplotlib inline"
   ]
  },
  {
   "cell_type": "code",
   "execution_count": 6,
   "id": "685a6509-2a8c-4bd4-b154-ef5abdb1be99",
   "metadata": {
    "tags": []
   },
   "outputs": [],
   "source": [
    "import warnings\n",
    "warnings.filterwarnings('ignore')"
   ]
  },
  {
   "cell_type": "code",
   "execution_count": 7,
   "id": "908ef3ab-ae39-4f6c-8926-3643de428f29",
   "metadata": {
    "tags": []
   },
   "outputs": [],
   "source": [
    "import seaborn as sns"
   ]
  },
  {
   "cell_type": "code",
   "execution_count": 22,
   "id": "fe9bf771-8336-490e-9f85-98e698341a82",
   "metadata": {
    "tags": []
   },
   "outputs": [
    {
     "name": "stdout",
     "output_type": "stream",
     "text": [
      "O caminho completo para o arquivo é: D:\\docs_mariana\\ProjetosGit\\Convergencia\\ADH_BASE_RADAR_2012-2021.xlsx\n"
     ]
    }
   ],
   "source": [
    "arquivo = \"ADH_BASE_RADAR_2012-2021.xlsx\"\n",
    "\n",
    "caminho_completo = os.path.abspath(arquivo)\n",
    "print(\"O caminho completo para o arquivo é:\", caminho_completo)"
   ]
  },
  {
   "cell_type": "code",
   "execution_count": 23,
   "id": "bd0408e8-e239-4667-a423-52dfc8f9f73b",
   "metadata": {
    "tags": []
   },
   "outputs": [],
   "source": [
    "idhm_states = pd.read_excel('D:\\docs_mariana\\ProjetosGit\\Convergencia\\data\\ADH_BASE_RADAR_2012-2021.xlsx')"
   ]
  },
  {
   "cell_type": "code",
   "execution_count": 24,
   "id": "51ec37e5-ac10-43ed-ba1d-a17942e68dff",
   "metadata": {
    "tags": []
   },
   "outputs": [
    {
     "data": {
      "text/html": [
       "<div>\n",
       "<style scoped>\n",
       "    .dataframe tbody tr th:only-of-type {\n",
       "        vertical-align: middle;\n",
       "    }\n",
       "\n",
       "    .dataframe tbody tr th {\n",
       "        vertical-align: top;\n",
       "    }\n",
       "\n",
       "    .dataframe thead th {\n",
       "        text-align: right;\n",
       "    }\n",
       "</style>\n",
       "<table border=\"1\" class=\"dataframe\">\n",
       "  <thead>\n",
       "    <tr style=\"text-align: right;\">\n",
       "      <th></th>\n",
       "      <th>ANO</th>\n",
       "      <th>AGREGACAO</th>\n",
       "      <th>CODIGO</th>\n",
       "      <th>NOME</th>\n",
       "      <th>IDHM</th>\n",
       "      <th>IDHM_L</th>\n",
       "      <th>IDHM_E</th>\n",
       "      <th>IDHM_R</th>\n",
       "      <th>I_ESCOLARIDADE</th>\n",
       "      <th>I_FREQ_PROP</th>\n",
       "      <th>...</th>\n",
       "      <th>POP6A17</th>\n",
       "      <th>POP11A13</th>\n",
       "      <th>POP15A17</th>\n",
       "      <th>POP15M</th>\n",
       "      <th>POP18A20</th>\n",
       "      <th>POP18A24</th>\n",
       "      <th>POP18M</th>\n",
       "      <th>POP25M</th>\n",
       "      <th>POP65M</th>\n",
       "      <th>POPOCUP18M</th>\n",
       "    </tr>\n",
       "  </thead>\n",
       "  <tbody>\n",
       "    <tr>\n",
       "      <th>0</th>\n",
       "      <td>2012</td>\n",
       "      <td>BRASIL</td>\n",
       "      <td>NaN</td>\n",
       "      <td>NaN</td>\n",
       "      <td>0.746</td>\n",
       "      <td>0.825</td>\n",
       "      <td>0.687</td>\n",
       "      <td>0.732</td>\n",
       "      <td>0.606</td>\n",
       "      <td>0.731</td>\n",
       "      <td>...</td>\n",
       "      <td>39808859</td>\n",
       "      <td>10304212</td>\n",
       "      <td>10609288</td>\n",
       "      <td>150994845</td>\n",
       "      <td>10076087</td>\n",
       "      <td>23924348</td>\n",
       "      <td>140385557</td>\n",
       "      <td>116461209</td>\n",
       "      <td>15249133</td>\n",
       "      <td>84277753</td>\n",
       "    </tr>\n",
       "    <tr>\n",
       "      <th>1</th>\n",
       "      <td>2013</td>\n",
       "      <td>BRASIL</td>\n",
       "      <td>NaN</td>\n",
       "      <td>NaN</td>\n",
       "      <td>0.753</td>\n",
       "      <td>0.830</td>\n",
       "      <td>0.698</td>\n",
       "      <td>0.737</td>\n",
       "      <td>0.615</td>\n",
       "      <td>0.744</td>\n",
       "      <td>...</td>\n",
       "      <td>39055262</td>\n",
       "      <td>9986737</td>\n",
       "      <td>10521249</td>\n",
       "      <td>153338252</td>\n",
       "      <td>10336071</td>\n",
       "      <td>24034903</td>\n",
       "      <td>142817003</td>\n",
       "      <td>118782100</td>\n",
       "      <td>15820311</td>\n",
       "      <td>86108710</td>\n",
       "    </tr>\n",
       "    <tr>\n",
       "      <th>2</th>\n",
       "      <td>2014</td>\n",
       "      <td>BRASIL</td>\n",
       "      <td>NaN</td>\n",
       "      <td>NaN</td>\n",
       "      <td>0.762</td>\n",
       "      <td>0.835</td>\n",
       "      <td>0.715</td>\n",
       "      <td>0.741</td>\n",
       "      <td>0.630</td>\n",
       "      <td>0.761</td>\n",
       "      <td>...</td>\n",
       "      <td>38765780</td>\n",
       "      <td>9687655</td>\n",
       "      <td>10446675</td>\n",
       "      <td>155356978</td>\n",
       "      <td>10224771</td>\n",
       "      <td>23840076</td>\n",
       "      <td>144910303</td>\n",
       "      <td>121070227</td>\n",
       "      <td>16425141</td>\n",
       "      <td>87308460</td>\n",
       "    </tr>\n",
       "    <tr>\n",
       "      <th>3</th>\n",
       "      <td>2015</td>\n",
       "      <td>BRASIL</td>\n",
       "      <td>NaN</td>\n",
       "      <td>NaN</td>\n",
       "      <td>0.765</td>\n",
       "      <td>0.840</td>\n",
       "      <td>0.724</td>\n",
       "      <td>0.736</td>\n",
       "      <td>0.642</td>\n",
       "      <td>0.769</td>\n",
       "      <td>...</td>\n",
       "      <td>38189476</td>\n",
       "      <td>9314133</td>\n",
       "      <td>10401307</td>\n",
       "      <td>157576293</td>\n",
       "      <td>10394554</td>\n",
       "      <td>23851445</td>\n",
       "      <td>147174986</td>\n",
       "      <td>123323541</td>\n",
       "      <td>17060247</td>\n",
       "      <td>87756538</td>\n",
       "    </tr>\n",
       "    <tr>\n",
       "      <th>4</th>\n",
       "      <td>2016</td>\n",
       "      <td>BRASIL</td>\n",
       "      <td>NaN</td>\n",
       "      <td>NaN</td>\n",
       "      <td>0.771</td>\n",
       "      <td>0.845</td>\n",
       "      <td>0.740</td>\n",
       "      <td>0.734</td>\n",
       "      <td>0.657</td>\n",
       "      <td>0.786</td>\n",
       "      <td>...</td>\n",
       "      <td>37694949</td>\n",
       "      <td>9288033</td>\n",
       "      <td>10375148</td>\n",
       "      <td>159692542</td>\n",
       "      <td>10242815</td>\n",
       "      <td>23779687</td>\n",
       "      <td>149317393</td>\n",
       "      <td>125537706</td>\n",
       "      <td>17728449</td>\n",
       "      <td>87110394</td>\n",
       "    </tr>\n",
       "  </tbody>\n",
       "</table>\n",
       "<p>5 rows × 83 columns</p>\n",
       "</div>"
      ],
      "text/plain": [
       "    ANO AGREGACAO  CODIGO NOME   IDHM  IDHM_L  IDHM_E  IDHM_R  I_ESCOLARIDADE  \\\n",
       "0  2012    BRASIL     NaN  NaN  0.746   0.825   0.687   0.732           0.606   \n",
       "1  2013    BRASIL     NaN  NaN  0.753   0.830   0.698   0.737           0.615   \n",
       "2  2014    BRASIL     NaN  NaN  0.762   0.835   0.715   0.741           0.630   \n",
       "3  2015    BRASIL     NaN  NaN  0.765   0.840   0.724   0.736           0.642   \n",
       "4  2016    BRASIL     NaN  NaN  0.771   0.845   0.740   0.734           0.657   \n",
       "\n",
       "   I_FREQ_PROP  ...   POP6A17  POP11A13  POP15A17     POP15M  POP18A20  \\\n",
       "0        0.731  ...  39808859  10304212  10609288  150994845  10076087   \n",
       "1        0.744  ...  39055262   9986737  10521249  153338252  10336071   \n",
       "2        0.761  ...  38765780   9687655  10446675  155356978  10224771   \n",
       "3        0.769  ...  38189476   9314133  10401307  157576293  10394554   \n",
       "4        0.786  ...  37694949   9288033  10375148  159692542  10242815   \n",
       "\n",
       "   POP18A24     POP18M     POP25M    POP65M  POPOCUP18M  \n",
       "0  23924348  140385557  116461209  15249133    84277753  \n",
       "1  24034903  142817003  118782100  15820311    86108710  \n",
       "2  23840076  144910303  121070227  16425141    87308460  \n",
       "3  23851445  147174986  123323541  17060247    87756538  \n",
       "4  23779687  149317393  125537706  17728449    87110394  \n",
       "\n",
       "[5 rows x 83 columns]"
      ]
     },
     "execution_count": 24,
     "metadata": {},
     "output_type": "execute_result"
    }
   ],
   "source": [
    "idhm_states.head(5)"
   ]
  },
  {
   "cell_type": "code",
   "execution_count": 25,
   "id": "afa26f51-145c-4273-8ca2-817d6ae8da96",
   "metadata": {
    "tags": []
   },
   "outputs": [
    {
     "data": {
      "text/plain": [
       "Index(['ANO', 'AGREGACAO', 'CODIGO', 'NOME', 'IDHM', 'IDHM_L', 'IDHM_E',\n",
       "       'IDHM_R', 'I_ESCOLARIDADE', 'I_FREQ_PROP', 'IDHMAD', 'IDHMAD_L',\n",
       "       'IDHMAD_E', 'IDHMAD_R', 'ATK_ESPVIDA', 'ATK_ANOSEST', 'ATK_RDPC',\n",
       "       'IDHMAD_PERDA', 'IDHMAD_L_PERDA', 'IDHMAD_E_PERDA', 'IDHMAD_R_PERDA',\n",
       "       'IDHMAD_COEF', 'ESPVIDA', 'MORT1', 'T_ENV', 'RAZDEP', 'T_FREQ5A6',\n",
       "       'T_FUND11A13', 'T_FUND15A17', 'T_MED18A20', 'T_FUND18M', 'ANOSEST',\n",
       "       'T_ANALF15M', 'T_ANALF18M', 'T_ANALF25M', 'T_FREQ6A14', 'T_FREQ15A17',\n",
       "       'T_FREQ18A24', 'T_FUND18A24', 'T_FUND25M', 'T_MED25M', 'T_SUPER25M',\n",
       "       'T_ATRASO_2_BASICO', 'T_ATRASO_2_FUND', 'T_FLBAS', 'T_FLFUND',\n",
       "       'T_FLMED', 'T_FLSUPER', 'RDPC', 'RDPCT', 'RENOCUP', 'PRENTRAB', 'RDPC1',\n",
       "       'RDPC2', 'RDPC3', 'RDPC4', 'RDPC5', 'RDPC10', 'R1040', 'R2040', 'GINI',\n",
       "       'THEIL', 'PIND', 'PMPOB', 'PPOB', 'RIND', 'RMPOB', 'RPOB', 'POPTOT',\n",
       "       'POP', 'POPT', 'POP5A6', 'POP6A14', 'POP6A17', 'POP11A13', 'POP15A17',\n",
       "       'POP15M', 'POP18A20', 'POP18A24', 'POP18M', 'POP25M', 'POP65M',\n",
       "       'POPOCUP18M'],\n",
       "      dtype='object')"
      ]
     },
     "execution_count": 25,
     "metadata": {},
     "output_type": "execute_result"
    }
   ],
   "source": [
    "idhm_states.columns"
   ]
  },
  {
   "cell_type": "code",
   "execution_count": 26,
   "id": "19735936-2bea-4227-9b47-38443e54c1dc",
   "metadata": {
    "tags": []
   },
   "outputs": [],
   "source": [
    "idhm_states = idhm_states.drop(columns=['IDHM_L', 'IDHM_E',\n",
    "       'IDHM_R', 'I_ESCOLARIDADE', 'I_FREQ_PROP', 'IDHMAD', 'IDHMAD_L',\n",
    "       'IDHMAD_E', 'IDHMAD_R', 'ATK_ESPVIDA', 'ATK_ANOSEST', 'ATK_RDPC',\n",
    "       'IDHMAD_PERDA', 'IDHMAD_L_PERDA', 'IDHMAD_E_PERDA', 'IDHMAD_R_PERDA',\n",
    "       'IDHMAD_COEF', 'ESPVIDA', 'MORT1', 'T_ENV', 'RAZDEP', 'T_FREQ5A6',\n",
    "       'T_FUND11A13', 'T_FUND15A17', 'T_MED18A20', 'T_FUND18M', 'ANOSEST', 'T_ANALF15M', 'T_ANALF18M', 'T_ANALF25M', 'T_FREQ6A14', 'T_FREQ15A17',\n",
    "       'T_FREQ18A24', 'T_FUND18A24', 'T_FUND25M', 'T_MED25M', 'T_SUPER25M',\n",
    "       'T_ATRASO_2_BASICO', 'T_ATRASO_2_FUND', 'T_FLBAS', 'T_FLFUND',\n",
    "       'T_FLMED', 'T_FLSUPER', 'RDPC', 'RDPCT', 'RENOCUP', 'PRENTRAB', 'RDPC1',\n",
    "       'RDPC2', 'RDPC3', 'RDPC4', 'RDPC5', 'RDPC10', 'R1040', 'R2040', 'GINI',\n",
    "       'THEIL', 'PIND', 'PMPOB', 'PPOB', 'RIND', 'RMPOB', 'RPOB', 'POPTOT',\n",
    "       'POP', 'POPT', 'POP5A6', 'POP6A14', 'POP6A17', 'POP11A13', 'POP15A17',\n",
    "       'POP15M', 'POP18A20', 'POP18A24', 'POP18M', 'POP25M', 'POP65M',\n",
    "       'POPOCUP18M'])"
   ]
  },
  {
   "cell_type": "code",
   "execution_count": 27,
   "id": "4aac1276-485b-460d-bb55-b82b00a7a492",
   "metadata": {
    "tags": []
   },
   "outputs": [
    {
     "data": {
      "text/html": [
       "<div>\n",
       "<style scoped>\n",
       "    .dataframe tbody tr th:only-of-type {\n",
       "        vertical-align: middle;\n",
       "    }\n",
       "\n",
       "    .dataframe tbody tr th {\n",
       "        vertical-align: top;\n",
       "    }\n",
       "\n",
       "    .dataframe thead th {\n",
       "        text-align: right;\n",
       "    }\n",
       "</style>\n",
       "<table border=\"1\" class=\"dataframe\">\n",
       "  <thead>\n",
       "    <tr style=\"text-align: right;\">\n",
       "      <th></th>\n",
       "      <th>ANO</th>\n",
       "      <th>AGREGACAO</th>\n",
       "      <th>CODIGO</th>\n",
       "      <th>NOME</th>\n",
       "      <th>IDHM</th>\n",
       "    </tr>\n",
       "  </thead>\n",
       "  <tbody>\n",
       "    <tr>\n",
       "      <th>0</th>\n",
       "      <td>2012</td>\n",
       "      <td>BRASIL</td>\n",
       "      <td>NaN</td>\n",
       "      <td>NaN</td>\n",
       "      <td>0.746</td>\n",
       "    </tr>\n",
       "    <tr>\n",
       "      <th>1</th>\n",
       "      <td>2013</td>\n",
       "      <td>BRASIL</td>\n",
       "      <td>NaN</td>\n",
       "      <td>NaN</td>\n",
       "      <td>0.753</td>\n",
       "    </tr>\n",
       "    <tr>\n",
       "      <th>2</th>\n",
       "      <td>2014</td>\n",
       "      <td>BRASIL</td>\n",
       "      <td>NaN</td>\n",
       "      <td>NaN</td>\n",
       "      <td>0.762</td>\n",
       "    </tr>\n",
       "    <tr>\n",
       "      <th>3</th>\n",
       "      <td>2015</td>\n",
       "      <td>BRASIL</td>\n",
       "      <td>NaN</td>\n",
       "      <td>NaN</td>\n",
       "      <td>0.765</td>\n",
       "    </tr>\n",
       "    <tr>\n",
       "      <th>4</th>\n",
       "      <td>2016</td>\n",
       "      <td>BRASIL</td>\n",
       "      <td>NaN</td>\n",
       "      <td>NaN</td>\n",
       "      <td>0.771</td>\n",
       "    </tr>\n",
       "  </tbody>\n",
       "</table>\n",
       "</div>"
      ],
      "text/plain": [
       "    ANO AGREGACAO  CODIGO NOME   IDHM\n",
       "0  2012    BRASIL     NaN  NaN  0.746\n",
       "1  2013    BRASIL     NaN  NaN  0.753\n",
       "2  2014    BRASIL     NaN  NaN  0.762\n",
       "3  2015    BRASIL     NaN  NaN  0.765\n",
       "4  2016    BRASIL     NaN  NaN  0.771"
      ]
     },
     "execution_count": 27,
     "metadata": {},
     "output_type": "execute_result"
    }
   ],
   "source": [
    "idhm_states.head()"
   ]
  },
  {
   "cell_type": "code",
   "execution_count": 28,
   "id": "3f37d70c-2100-4f0f-b83c-e8879fc27f01",
   "metadata": {
    "tags": []
   },
   "outputs": [
    {
     "name": "stdout",
     "output_type": "stream",
     "text": [
      "<class 'pandas.core.frame.DataFrame'>\n",
      "RangeIndex: 490 entries, 0 to 489\n",
      "Data columns (total 5 columns):\n",
      " #   Column     Non-Null Count  Dtype  \n",
      "---  ------     --------------  -----  \n",
      " 0   ANO        490 non-null    int64  \n",
      " 1   AGREGACAO  490 non-null    object \n",
      " 2   CODIGO     480 non-null    float64\n",
      " 3   NOME       480 non-null    object \n",
      " 4   IDHM       490 non-null    float64\n",
      "dtypes: float64(2), int64(1), object(2)\n",
      "memory usage: 19.3+ KB\n"
     ]
    }
   ],
   "source": [
    "idhm_states.info()"
   ]
  },
  {
   "cell_type": "code",
   "execution_count": 31,
   "id": "b4eac63c-18c7-445b-8703-6d897d814e36",
   "metadata": {
    "tags": []
   },
   "outputs": [],
   "source": [
    "idhm_states.rename(columns={'ANO': 'time'}, inplace=True)"
   ]
  },
  {
   "cell_type": "code",
   "execution_count": 32,
   "id": "b995169d-f0d7-4f07-ad84-96ac075dfdaf",
   "metadata": {
    "tags": []
   },
   "outputs": [],
   "source": [
    "idhm_states['time'] = idhm_states['time'].astype(int)"
   ]
  },
  {
   "cell_type": "code",
   "execution_count": 37,
   "id": "e1fea3c6-b6fb-4fd8-ad6b-978708925d82",
   "metadata": {
    "tags": []
   },
   "outputs": [
    {
     "data": {
      "text/html": [
       "<div>\n",
       "<style scoped>\n",
       "    .dataframe tbody tr th:only-of-type {\n",
       "        vertical-align: middle;\n",
       "    }\n",
       "\n",
       "    .dataframe tbody tr th {\n",
       "        vertical-align: top;\n",
       "    }\n",
       "\n",
       "    .dataframe thead th {\n",
       "        text-align: right;\n",
       "    }\n",
       "</style>\n",
       "<table border=\"1\" class=\"dataframe\">\n",
       "  <thead>\n",
       "    <tr style=\"text-align: right;\">\n",
       "      <th></th>\n",
       "      <th>time</th>\n",
       "      <th>AGREGACAO</th>\n",
       "      <th>CODIGO</th>\n",
       "      <th>NOME</th>\n",
       "      <th>IDHM</th>\n",
       "    </tr>\n",
       "  </thead>\n",
       "  <tbody>\n",
       "    <tr>\n",
       "      <th>0</th>\n",
       "      <td>2012</td>\n",
       "      <td>BRASIL</td>\n",
       "      <td>NaN</td>\n",
       "      <td>NaN</td>\n",
       "      <td>0.746</td>\n",
       "    </tr>\n",
       "    <tr>\n",
       "      <th>1</th>\n",
       "      <td>2013</td>\n",
       "      <td>BRASIL</td>\n",
       "      <td>NaN</td>\n",
       "      <td>NaN</td>\n",
       "      <td>0.753</td>\n",
       "    </tr>\n",
       "    <tr>\n",
       "      <th>2</th>\n",
       "      <td>2014</td>\n",
       "      <td>BRASIL</td>\n",
       "      <td>NaN</td>\n",
       "      <td>NaN</td>\n",
       "      <td>0.762</td>\n",
       "    </tr>\n",
       "    <tr>\n",
       "      <th>3</th>\n",
       "      <td>2015</td>\n",
       "      <td>BRASIL</td>\n",
       "      <td>NaN</td>\n",
       "      <td>NaN</td>\n",
       "      <td>0.765</td>\n",
       "    </tr>\n",
       "    <tr>\n",
       "      <th>4</th>\n",
       "      <td>2016</td>\n",
       "      <td>BRASIL</td>\n",
       "      <td>NaN</td>\n",
       "      <td>NaN</td>\n",
       "      <td>0.771</td>\n",
       "    </tr>\n",
       "  </tbody>\n",
       "</table>\n",
       "</div>"
      ],
      "text/plain": [
       "   time AGREGACAO  CODIGO NOME   IDHM\n",
       "0  2012    BRASIL     NaN  NaN  0.746\n",
       "1  2013    BRASIL     NaN  NaN  0.753\n",
       "2  2014    BRASIL     NaN  NaN  0.762\n",
       "3  2015    BRASIL     NaN  NaN  0.765\n",
       "4  2016    BRASIL     NaN  NaN  0.771"
      ]
     },
     "execution_count": 37,
     "metadata": {},
     "output_type": "execute_result"
    }
   ],
   "source": [
    "idhm_states.head()"
   ]
  },
  {
   "cell_type": "code",
   "execution_count": 34,
   "id": "a9f61723-77ad-46af-8b02-c4b631dfc670",
   "metadata": {
    "tags": []
   },
   "outputs": [
    {
     "name": "stdout",
     "output_type": "stream",
     "text": [
      "<class 'pandas.core.frame.DataFrame'>\n",
      "RangeIndex: 490 entries, 0 to 489\n",
      "Data columns (total 5 columns):\n",
      " #   Column     Non-Null Count  Dtype  \n",
      "---  ------     --------------  -----  \n",
      " 0   time       490 non-null    int32  \n",
      " 1   AGREGACAO  490 non-null    object \n",
      " 2   CODIGO     480 non-null    float64\n",
      " 3   NOME       480 non-null    object \n",
      " 4   IDHM       490 non-null    float64\n",
      "dtypes: float64(2), int32(1), object(2)\n",
      "memory usage: 17.4+ KB\n"
     ]
    }
   ],
   "source": [
    "idhm_states.info()"
   ]
  },
  {
   "cell_type": "code",
   "execution_count": 39,
   "id": "35675e52-7629-488c-ae60-fc787395fa5f",
   "metadata": {
    "tags": []
   },
   "outputs": [
    {
     "data": {
      "text/html": [
       "<div>\n",
       "<style scoped>\n",
       "    .dataframe tbody tr th:only-of-type {\n",
       "        vertical-align: middle;\n",
       "    }\n",
       "\n",
       "    .dataframe tbody tr th {\n",
       "        vertical-align: top;\n",
       "    }\n",
       "\n",
       "    .dataframe thead th {\n",
       "        text-align: right;\n",
       "    }\n",
       "</style>\n",
       "<table border=\"1\" class=\"dataframe\">\n",
       "  <thead>\n",
       "    <tr style=\"text-align: right;\">\n",
       "      <th></th>\n",
       "      <th>time</th>\n",
       "      <th>AGREGACAO</th>\n",
       "      <th>CODIGO</th>\n",
       "      <th>NOME</th>\n",
       "      <th>IDHM</th>\n",
       "    </tr>\n",
       "  </thead>\n",
       "  <tbody>\n",
       "    <tr>\n",
       "      <th>10</th>\n",
       "      <td>2012</td>\n",
       "      <td>UF</td>\n",
       "      <td>11.0</td>\n",
       "      <td>Rondônia</td>\n",
       "      <td>0.694</td>\n",
       "    </tr>\n",
       "    <tr>\n",
       "      <th>11</th>\n",
       "      <td>2012</td>\n",
       "      <td>UF</td>\n",
       "      <td>12.0</td>\n",
       "      <td>Acre</td>\n",
       "      <td>0.701</td>\n",
       "    </tr>\n",
       "    <tr>\n",
       "      <th>12</th>\n",
       "      <td>2012</td>\n",
       "      <td>UF</td>\n",
       "      <td>13.0</td>\n",
       "      <td>Amazonas</td>\n",
       "      <td>0.691</td>\n",
       "    </tr>\n",
       "    <tr>\n",
       "      <th>13</th>\n",
       "      <td>2012</td>\n",
       "      <td>UF</td>\n",
       "      <td>14.0</td>\n",
       "      <td>Roraima</td>\n",
       "      <td>0.738</td>\n",
       "    </tr>\n",
       "    <tr>\n",
       "      <th>14</th>\n",
       "      <td>2012</td>\n",
       "      <td>UF</td>\n",
       "      <td>15.0</td>\n",
       "      <td>Pará</td>\n",
       "      <td>0.666</td>\n",
       "    </tr>\n",
       "  </tbody>\n",
       "</table>\n",
       "</div>"
      ],
      "text/plain": [
       "    time AGREGACAO  CODIGO      NOME   IDHM\n",
       "10  2012        UF    11.0  Rondônia  0.694\n",
       "11  2012        UF    12.0      Acre  0.701\n",
       "12  2012        UF    13.0  Amazonas  0.691\n",
       "13  2012        UF    14.0   Roraima  0.738\n",
       "14  2012        UF    15.0      Pará  0.666"
      ]
     },
     "execution_count": 39,
     "metadata": {},
     "output_type": "execute_result"
    }
   ],
   "source": [
    "idhm_states = idhm_states.dropna(how='any')\n",
    "idhm_states.head()"
   ]
  },
  {
   "cell_type": "code",
   "execution_count": 40,
   "id": "16a3de8c-c394-4b0b-ac8a-bbabce67f708",
   "metadata": {
    "tags": []
   },
   "outputs": [],
   "source": [
    "# Filtrar linhas onde a coluna 'coluna' contenha 'RM_RIDE'\n",
    "idhm_states = idhm_states[~idhm_states['AGREGACAO'].str.contains('RM_RIDE')]\n"
   ]
  },
  {
   "cell_type": "code",
   "execution_count": 41,
   "id": "a0e152a3-142d-426b-874d-c01bd19c9748",
   "metadata": {
    "tags": []
   },
   "outputs": [
    {
     "data": {
      "text/html": [
       "<div>\n",
       "<style scoped>\n",
       "    .dataframe tbody tr th:only-of-type {\n",
       "        vertical-align: middle;\n",
       "    }\n",
       "\n",
       "    .dataframe tbody tr th {\n",
       "        vertical-align: top;\n",
       "    }\n",
       "\n",
       "    .dataframe thead th {\n",
       "        text-align: right;\n",
       "    }\n",
       "</style>\n",
       "<table border=\"1\" class=\"dataframe\">\n",
       "  <thead>\n",
       "    <tr style=\"text-align: right;\">\n",
       "      <th></th>\n",
       "      <th>time</th>\n",
       "      <th>AGREGACAO</th>\n",
       "      <th>CODIGO</th>\n",
       "      <th>NOME</th>\n",
       "      <th>IDHM</th>\n",
       "    </tr>\n",
       "  </thead>\n",
       "  <tbody>\n",
       "    <tr>\n",
       "      <th>275</th>\n",
       "      <td>2021</td>\n",
       "      <td>UF</td>\n",
       "      <td>43.0</td>\n",
       "      <td>Rio Grande do Sul</td>\n",
       "      <td>0.771</td>\n",
       "    </tr>\n",
       "    <tr>\n",
       "      <th>276</th>\n",
       "      <td>2021</td>\n",
       "      <td>UF</td>\n",
       "      <td>50.0</td>\n",
       "      <td>Mato Grosso do Sul</td>\n",
       "      <td>0.742</td>\n",
       "    </tr>\n",
       "    <tr>\n",
       "      <th>277</th>\n",
       "      <td>2021</td>\n",
       "      <td>UF</td>\n",
       "      <td>51.0</td>\n",
       "      <td>Mato Grosso</td>\n",
       "      <td>0.736</td>\n",
       "    </tr>\n",
       "    <tr>\n",
       "      <th>278</th>\n",
       "      <td>2021</td>\n",
       "      <td>UF</td>\n",
       "      <td>52.0</td>\n",
       "      <td>Goiás</td>\n",
       "      <td>0.737</td>\n",
       "    </tr>\n",
       "    <tr>\n",
       "      <th>279</th>\n",
       "      <td>2021</td>\n",
       "      <td>UF</td>\n",
       "      <td>53.0</td>\n",
       "      <td>Distrito Federal</td>\n",
       "      <td>0.814</td>\n",
       "    </tr>\n",
       "  </tbody>\n",
       "</table>\n",
       "</div>"
      ],
      "text/plain": [
       "     time AGREGACAO  CODIGO                NOME   IDHM\n",
       "275  2021        UF    43.0   Rio Grande do Sul  0.771\n",
       "276  2021        UF    50.0  Mato Grosso do Sul  0.742\n",
       "277  2021        UF    51.0         Mato Grosso  0.736\n",
       "278  2021        UF    52.0               Goiás  0.737\n",
       "279  2021        UF    53.0    Distrito Federal  0.814"
      ]
     },
     "execution_count": 41,
     "metadata": {},
     "output_type": "execute_result"
    }
   ],
   "source": [
    "idhm_states.tail()"
   ]
  },
  {
   "cell_type": "code",
   "execution_count": 42,
   "id": "a8538af4-b98c-440c-baf7-086cc2216900",
   "metadata": {
    "tags": []
   },
   "outputs": [],
   "source": [
    "idhm_states['CODIGO'] = idhm_states['CODIGO'].astype(int)"
   ]
  },
  {
   "cell_type": "code",
   "execution_count": 43,
   "id": "ef22f5de-0b43-4cdb-b2d9-9d7c344a2f66",
   "metadata": {
    "tags": []
   },
   "outputs": [
    {
     "name": "stdout",
     "output_type": "stream",
     "text": [
      "<class 'pandas.core.frame.DataFrame'>\n",
      "Index: 270 entries, 10 to 279\n",
      "Data columns (total 5 columns):\n",
      " #   Column     Non-Null Count  Dtype  \n",
      "---  ------     --------------  -----  \n",
      " 0   time       270 non-null    int32  \n",
      " 1   AGREGACAO  270 non-null    object \n",
      " 2   CODIGO     270 non-null    int32  \n",
      " 3   NOME       270 non-null    object \n",
      " 4   IDHM       270 non-null    float64\n",
      "dtypes: float64(1), int32(2), object(2)\n",
      "memory usage: 10.5+ KB\n"
     ]
    }
   ],
   "source": [
    "idhm_states.info()"
   ]
  },
  {
   "cell_type": "code",
   "execution_count": 44,
   "id": "3a532f87-6d1e-45fb-8374-389086b00cc6",
   "metadata": {
    "tags": []
   },
   "outputs": [
    {
     "data": {
      "text/plain": [
       "Index(['time', 'AGREGACAO', 'CODIGO', 'NOME', 'IDHM'], dtype='object')"
      ]
     },
     "execution_count": 44,
     "metadata": {},
     "output_type": "execute_result"
    }
   ],
   "source": [
    "idhm_states.columns"
   ]
  },
  {
   "cell_type": "code",
   "execution_count": 45,
   "id": "f453677b-e7a3-46be-b4c8-b7f6caee585c",
   "metadata": {
    "tags": []
   },
   "outputs": [],
   "source": [
    "idhm_states = idhm_states.drop(columns=['AGREGACAO', 'NOME'])"
   ]
  },
  {
   "cell_type": "code",
   "execution_count": 46,
   "id": "ed9022ce-048e-4b49-908a-759003d454ab",
   "metadata": {
    "tags": []
   },
   "outputs": [
    {
     "data": {
      "text/html": [
       "<div>\n",
       "<style scoped>\n",
       "    .dataframe tbody tr th:only-of-type {\n",
       "        vertical-align: middle;\n",
       "    }\n",
       "\n",
       "    .dataframe tbody tr th {\n",
       "        vertical-align: top;\n",
       "    }\n",
       "\n",
       "    .dataframe thead th {\n",
       "        text-align: right;\n",
       "    }\n",
       "</style>\n",
       "<table border=\"1\" class=\"dataframe\">\n",
       "  <thead>\n",
       "    <tr style=\"text-align: right;\">\n",
       "      <th></th>\n",
       "      <th>time</th>\n",
       "      <th>CODIGO</th>\n",
       "      <th>IDHM</th>\n",
       "    </tr>\n",
       "  </thead>\n",
       "  <tbody>\n",
       "    <tr>\n",
       "      <th>10</th>\n",
       "      <td>2012</td>\n",
       "      <td>11</td>\n",
       "      <td>0.694</td>\n",
       "    </tr>\n",
       "    <tr>\n",
       "      <th>11</th>\n",
       "      <td>2012</td>\n",
       "      <td>12</td>\n",
       "      <td>0.701</td>\n",
       "    </tr>\n",
       "    <tr>\n",
       "      <th>12</th>\n",
       "      <td>2012</td>\n",
       "      <td>13</td>\n",
       "      <td>0.691</td>\n",
       "    </tr>\n",
       "    <tr>\n",
       "      <th>13</th>\n",
       "      <td>2012</td>\n",
       "      <td>14</td>\n",
       "      <td>0.738</td>\n",
       "    </tr>\n",
       "    <tr>\n",
       "      <th>14</th>\n",
       "      <td>2012</td>\n",
       "      <td>15</td>\n",
       "      <td>0.666</td>\n",
       "    </tr>\n",
       "  </tbody>\n",
       "</table>\n",
       "</div>"
      ],
      "text/plain": [
       "    time  CODIGO   IDHM\n",
       "10  2012      11  0.694\n",
       "11  2012      12  0.701\n",
       "12  2012      13  0.691\n",
       "13  2012      14  0.738\n",
       "14  2012      15  0.666"
      ]
     },
     "execution_count": 46,
     "metadata": {},
     "output_type": "execute_result"
    }
   ],
   "source": [
    "idhm_states.head()"
   ]
  },
  {
   "cell_type": "code",
   "execution_count": 47,
   "id": "57dabee8-ee56-4998-8050-2e04dd3b084e",
   "metadata": {
    "tags": []
   },
   "outputs": [],
   "source": [
    "# Reorganizando o DataFrame para ter os estados como colunas e datas como índices\n",
    "idhm_states = idhm_states.pivot(index='time', columns='CODIGO')['IDHM']\n",
    "\n",
    "# Removendo o nome da coluna de estados ('Código')\n",
    "idhm_states.columns.name = None"
   ]
  },
  {
   "cell_type": "code",
   "execution_count": 50,
   "id": "3fe92ddb-c391-4c6f-8a95-b5127e4dafa4",
   "metadata": {
    "tags": []
   },
   "outputs": [
    {
     "data": {
      "text/html": [
       "<div>\n",
       "<style scoped>\n",
       "    .dataframe tbody tr th:only-of-type {\n",
       "        vertical-align: middle;\n",
       "    }\n",
       "\n",
       "    .dataframe tbody tr th {\n",
       "        vertical-align: top;\n",
       "    }\n",
       "\n",
       "    .dataframe thead th {\n",
       "        text-align: right;\n",
       "    }\n",
       "</style>\n",
       "<table border=\"1\" class=\"dataframe\">\n",
       "  <thead>\n",
       "    <tr style=\"text-align: right;\">\n",
       "      <th></th>\n",
       "      <th>time</th>\n",
       "      <th>11</th>\n",
       "      <th>12</th>\n",
       "      <th>13</th>\n",
       "      <th>14</th>\n",
       "      <th>15</th>\n",
       "      <th>16</th>\n",
       "      <th>17</th>\n",
       "      <th>21</th>\n",
       "      <th>22</th>\n",
       "      <th>...</th>\n",
       "      <th>32</th>\n",
       "      <th>33</th>\n",
       "      <th>35</th>\n",
       "      <th>41</th>\n",
       "      <th>42</th>\n",
       "      <th>43</th>\n",
       "      <th>50</th>\n",
       "      <th>51</th>\n",
       "      <th>52</th>\n",
       "      <th>53</th>\n",
       "    </tr>\n",
       "  </thead>\n",
       "  <tbody>\n",
       "    <tr>\n",
       "      <th>0</th>\n",
       "      <td>2012</td>\n",
       "      <td>0.694</td>\n",
       "      <td>0.701</td>\n",
       "      <td>0.691</td>\n",
       "      <td>0.738</td>\n",
       "      <td>0.666</td>\n",
       "      <td>0.707</td>\n",
       "      <td>0.710</td>\n",
       "      <td>0.648</td>\n",
       "      <td>0.660</td>\n",
       "      <td>...</td>\n",
       "      <td>0.758</td>\n",
       "      <td>0.762</td>\n",
       "      <td>0.812</td>\n",
       "      <td>0.772</td>\n",
       "      <td>0.792</td>\n",
       "      <td>0.763</td>\n",
       "      <td>0.733</td>\n",
       "      <td>0.742</td>\n",
       "      <td>0.744</td>\n",
       "      <td>0.825</td>\n",
       "    </tr>\n",
       "    <tr>\n",
       "      <th>1</th>\n",
       "      <td>2013</td>\n",
       "      <td>0.687</td>\n",
       "      <td>0.706</td>\n",
       "      <td>0.702</td>\n",
       "      <td>0.738</td>\n",
       "      <td>0.671</td>\n",
       "      <td>0.734</td>\n",
       "      <td>0.719</td>\n",
       "      <td>0.661</td>\n",
       "      <td>0.679</td>\n",
       "      <td>...</td>\n",
       "      <td>0.765</td>\n",
       "      <td>0.768</td>\n",
       "      <td>0.818</td>\n",
       "      <td>0.782</td>\n",
       "      <td>0.801</td>\n",
       "      <td>0.773</td>\n",
       "      <td>0.743</td>\n",
       "      <td>0.758</td>\n",
       "      <td>0.752</td>\n",
       "      <td>0.837</td>\n",
       "    </tr>\n",
       "  </tbody>\n",
       "</table>\n",
       "<p>2 rows × 28 columns</p>\n",
       "</div>"
      ],
      "text/plain": [
       "   time     11     12     13     14     15     16     17     21     22  ...  \\\n",
       "0  2012  0.694  0.701  0.691  0.738  0.666  0.707  0.710  0.648  0.660  ...   \n",
       "1  2013  0.687  0.706  0.702  0.738  0.671  0.734  0.719  0.661  0.679  ...   \n",
       "\n",
       "      32     33     35     41     42     43     50     51     52     53  \n",
       "0  0.758  0.762  0.812  0.772  0.792  0.763  0.733  0.742  0.744  0.825  \n",
       "1  0.765  0.768  0.818  0.782  0.801  0.773  0.743  0.758  0.752  0.837  \n",
       "\n",
       "[2 rows x 28 columns]"
      ]
     },
     "execution_count": 50,
     "metadata": {},
     "output_type": "execute_result"
    }
   ],
   "source": [
    "idhm_states.head(2)"
   ]
  },
  {
   "cell_type": "code",
   "execution_count": 49,
   "id": "5ee484e4-ef7b-42e2-a583-16eea865480c",
   "metadata": {
    "tags": []
   },
   "outputs": [],
   "source": [
    "idhm_states.reset_index(inplace=True)"
   ]
  },
  {
   "cell_type": "code",
   "execution_count": 51,
   "id": "540d004f-cb3c-4280-b428-df9bc772fc7a",
   "metadata": {
    "tags": []
   },
   "outputs": [
    {
     "data": {
      "text/html": [
       "<div>\n",
       "<style scoped>\n",
       "    .dataframe tbody tr th:only-of-type {\n",
       "        vertical-align: middle;\n",
       "    }\n",
       "\n",
       "    .dataframe tbody tr th {\n",
       "        vertical-align: top;\n",
       "    }\n",
       "\n",
       "    .dataframe thead th {\n",
       "        text-align: right;\n",
       "    }\n",
       "</style>\n",
       "<table border=\"1\" class=\"dataframe\">\n",
       "  <thead>\n",
       "    <tr style=\"text-align: right;\">\n",
       "      <th></th>\n",
       "      <th>time</th>\n",
       "      <th>11</th>\n",
       "      <th>12</th>\n",
       "      <th>13</th>\n",
       "      <th>14</th>\n",
       "      <th>15</th>\n",
       "      <th>16</th>\n",
       "      <th>17</th>\n",
       "      <th>21</th>\n",
       "      <th>22</th>\n",
       "      <th>...</th>\n",
       "      <th>32</th>\n",
       "      <th>33</th>\n",
       "      <th>35</th>\n",
       "      <th>41</th>\n",
       "      <th>42</th>\n",
       "      <th>43</th>\n",
       "      <th>50</th>\n",
       "      <th>51</th>\n",
       "      <th>52</th>\n",
       "      <th>53</th>\n",
       "    </tr>\n",
       "  </thead>\n",
       "  <tbody>\n",
       "    <tr>\n",
       "      <th>0</th>\n",
       "      <td>2012</td>\n",
       "      <td>0.694</td>\n",
       "      <td>0.701</td>\n",
       "      <td>0.691</td>\n",
       "      <td>0.738</td>\n",
       "      <td>0.666</td>\n",
       "      <td>0.707</td>\n",
       "      <td>0.710</td>\n",
       "      <td>0.648</td>\n",
       "      <td>0.660</td>\n",
       "      <td>...</td>\n",
       "      <td>0.758</td>\n",
       "      <td>0.762</td>\n",
       "      <td>0.812</td>\n",
       "      <td>0.772</td>\n",
       "      <td>0.792</td>\n",
       "      <td>0.763</td>\n",
       "      <td>0.733</td>\n",
       "      <td>0.742</td>\n",
       "      <td>0.744</td>\n",
       "      <td>0.825</td>\n",
       "    </tr>\n",
       "    <tr>\n",
       "      <th>1</th>\n",
       "      <td>2013</td>\n",
       "      <td>0.687</td>\n",
       "      <td>0.706</td>\n",
       "      <td>0.702</td>\n",
       "      <td>0.738</td>\n",
       "      <td>0.671</td>\n",
       "      <td>0.734</td>\n",
       "      <td>0.719</td>\n",
       "      <td>0.661</td>\n",
       "      <td>0.679</td>\n",
       "      <td>...</td>\n",
       "      <td>0.765</td>\n",
       "      <td>0.768</td>\n",
       "      <td>0.818</td>\n",
       "      <td>0.782</td>\n",
       "      <td>0.801</td>\n",
       "      <td>0.773</td>\n",
       "      <td>0.743</td>\n",
       "      <td>0.758</td>\n",
       "      <td>0.752</td>\n",
       "      <td>0.837</td>\n",
       "    </tr>\n",
       "  </tbody>\n",
       "</table>\n",
       "<p>2 rows × 28 columns</p>\n",
       "</div>"
      ],
      "text/plain": [
       "   time     11     12     13     14     15     16     17     21     22  ...  \\\n",
       "0  2012  0.694  0.701  0.691  0.738  0.666  0.707  0.710  0.648  0.660  ...   \n",
       "1  2013  0.687  0.706  0.702  0.738  0.671  0.734  0.719  0.661  0.679  ...   \n",
       "\n",
       "      32     33     35     41     42     43     50     51     52     53  \n",
       "0  0.758  0.762  0.812  0.772  0.792  0.763  0.733  0.742  0.744  0.825  \n",
       "1  0.765  0.768  0.818  0.782  0.801  0.773  0.743  0.758  0.752  0.837  \n",
       "\n",
       "[2 rows x 28 columns]"
      ]
     },
     "execution_count": 51,
     "metadata": {},
     "output_type": "execute_result"
    }
   ],
   "source": [
    "idhm_states.head(2)"
   ]
  },
  {
   "cell_type": "code",
   "execution_count": 52,
   "id": "75ee4c73-2dfd-4845-8435-1b30acef7c7f",
   "metadata": {
    "tags": []
   },
   "outputs": [
    {
     "name": "stdout",
     "output_type": "stream",
     "text": [
      "<class 'pandas.core.frame.DataFrame'>\n",
      "RangeIndex: 10 entries, 0 to 9\n",
      "Data columns (total 28 columns):\n",
      " #   Column  Non-Null Count  Dtype  \n",
      "---  ------  --------------  -----  \n",
      " 0   time    10 non-null     int32  \n",
      " 1   11      10 non-null     float64\n",
      " 2   12      10 non-null     float64\n",
      " 3   13      10 non-null     float64\n",
      " 4   14      10 non-null     float64\n",
      " 5   15      10 non-null     float64\n",
      " 6   16      10 non-null     float64\n",
      " 7   17      10 non-null     float64\n",
      " 8   21      10 non-null     float64\n",
      " 9   22      10 non-null     float64\n",
      " 10  23      10 non-null     float64\n",
      " 11  24      10 non-null     float64\n",
      " 12  25      10 non-null     float64\n",
      " 13  26      10 non-null     float64\n",
      " 14  27      10 non-null     float64\n",
      " 15  28      10 non-null     float64\n",
      " 16  29      10 non-null     float64\n",
      " 17  31      10 non-null     float64\n",
      " 18  32      10 non-null     float64\n",
      " 19  33      10 non-null     float64\n",
      " 20  35      10 non-null     float64\n",
      " 21  41      10 non-null     float64\n",
      " 22  42      10 non-null     float64\n",
      " 23  43      10 non-null     float64\n",
      " 24  50      10 non-null     float64\n",
      " 25  51      10 non-null     float64\n",
      " 26  52      10 non-null     float64\n",
      " 27  53      10 non-null     float64\n",
      "dtypes: float64(27), int32(1)\n",
      "memory usage: 2.3 KB\n"
     ]
    }
   ],
   "source": [
    "idhm_states.info()"
   ]
  },
  {
   "cell_type": "code",
   "execution_count": 53,
   "id": "11821bef-291f-466e-b184-4a172de556bd",
   "metadata": {
    "tags": []
   },
   "outputs": [],
   "source": [
    "#criando arquivo csv final\n",
    "idhm_states.to_csv('D:\\docs_mariana\\ProjetosGit\\Convergencia\\data_eurofound_est\\idhm_states.csv', encoding='UTF-8', index = False)"
   ]
  }
 ],
 "metadata": {
  "kernelspec": {
   "display_name": "Python 3 (ipykernel)",
   "language": "python",
   "name": "python3"
  },
  "language_info": {
   "codemirror_mode": {
    "name": "ipython",
    "version": 3
   },
   "file_extension": ".py",
   "mimetype": "text/x-python",
   "name": "python",
   "nbconvert_exporter": "python",
   "pygments_lexer": "ipython3",
   "version": "3.11.4"
  }
 },
 "nbformat": 4,
 "nbformat_minor": 5
}
