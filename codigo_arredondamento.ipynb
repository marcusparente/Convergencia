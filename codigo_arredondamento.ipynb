{
  "nbformat": 4,
  "nbformat_minor": 0,
  "metadata": {
    "colab": {
      "provenance": []
    },
    "kernelspec": {
      "name": "python3",
      "display_name": "Python 3"
    },
    "language_info": {
      "name": "python"
    }
  },
  "cells": [
    {
      "cell_type": "code",
      "execution_count": null,
      "metadata": {
        "id": "P0tWOOZ2vMCR"
      },
      "outputs": [],
      "source": [
        "colunas_arredondar = ['12', '27', '13', '16', '29', '23', '53', '32', '52', '21',\n",
        "       '31', '50', '51', '15', '25', '26', '22', '41', '33', '24', '11', '14',\n",
        "       '43', '42', '28', '35', '17']\n",
        "df[colunas_arredondar] = df[colunas_arredondar].round(1)"
      ]
    }
  ]
}