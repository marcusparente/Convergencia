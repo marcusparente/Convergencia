{
 "cells": [
  {
   "cell_type": "markdown",
   "id": "bfdcec96-213d-443a-af8f-37d9a44dbacc",
   "metadata": {},
   "source": [
    "## Análise de Convergência dos estados brasileiros considerando indicadores utilizados pelo Eurofound"
   ]
  },
  {
   "cell_type": "code",
   "execution_count": 1,
   "id": "ec005996-4393-4fce-a615-1434c092b99b",
   "metadata": {
    "tags": []
   },
   "outputs": [],
   "source": [
    "from bs4 import BeautifulSoup\n",
    "import requests\n",
    "import pandas as pd\n",
    "import os\n",
    "import csv\n",
    "import json"
   ]
  },
  {
   "cell_type": "code",
   "execution_count": 2,
   "id": "b5f82774-0f09-4990-819c-9c30412f20eb",
   "metadata": {
    "tags": []
   },
   "outputs": [],
   "source": [
    "!pip install --upgrade matplotlib --quiet"
   ]
  },
  {
   "cell_type": "code",
   "execution_count": 3,
   "id": "fda2f986-cf65-4b15-8964-43e5d4b74f19",
   "metadata": {
    "tags": []
   },
   "outputs": [],
   "source": [
    "!pip install --upgrade seaborn --quiet"
   ]
  },
  {
   "cell_type": "code",
   "execution_count": 4,
   "id": "ff1a5835-c3f4-4b36-8afa-de57e98088b9",
   "metadata": {
    "tags": []
   },
   "outputs": [],
   "source": [
    "import numpy as np"
   ]
  },
  {
   "cell_type": "code",
   "execution_count": 5,
   "id": "0ac2d057-8e7d-462b-baee-b5098b11decf",
   "metadata": {
    "tags": []
   },
   "outputs": [],
   "source": [
    "import matplotlib.pyplot as plt\n",
    "#para conseguir visualizar os gráficos no notebook\n",
    "%matplotlib inline"
   ]
  },
  {
   "cell_type": "code",
   "execution_count": 6,
   "id": "685a6509-2a8c-4bd4-b154-ef5abdb1be99",
   "metadata": {
    "tags": []
   },
   "outputs": [],
   "source": [
    "import warnings\n",
    "warnings.filterwarnings('ignore')"
   ]
  },
  {
   "cell_type": "code",
   "execution_count": 7,
   "id": "908ef3ab-ae39-4f6c-8926-3643de428f29",
   "metadata": {
    "tags": []
   },
   "outputs": [],
   "source": [
    "import seaborn as sns"
   ]
  },
  {
   "cell_type": "markdown",
   "id": "6fc1a1f4-9d24-4268-96e1-8a081f7f9928",
   "metadata": {},
   "source": [
    "# Indicadores relacionados ao Índice de Desenvolvimento Humano"
   ]
  },
  {
   "cell_type": "markdown",
   "id": "7b5447ea-6606-4624-8485-ac2b2730b4b4",
   "metadata": {},
   "source": [
    "### PNAD Contínua"
   ]
  },
  {
   "cell_type": "code",
   "execution_count": 8,
   "id": "fe9bf771-8336-490e-9f85-98e698341a82",
   "metadata": {
    "tags": []
   },
   "outputs": [
    {
     "name": "stdout",
     "output_type": "stream",
     "text": [
      "O caminho completo para o arquivo é: D:\\docs_mariana\\ProjetosGit\\Convergencia\\ADH_BASE_RADAR_2012-2021.xlsx\n"
     ]
    }
   ],
   "source": [
    "arquivo = \"ADH_BASE_RADAR_2012-2021.xlsx\"\n",
    "\n",
    "caminho_completo = os.path.abspath(arquivo)\n",
    "print(\"O caminho completo para o arquivo é:\", caminho_completo)"
   ]
  },
  {
   "cell_type": "code",
   "execution_count": 9,
   "id": "bd0408e8-e239-4667-a423-52dfc8f9f73b",
   "metadata": {
    "tags": []
   },
   "outputs": [],
   "source": [
    "df_mul_siafi_ibge = pd.read_excel('D:\\docs_mariana\\ProjetosGit\\Convergencia\\ADH_BASE_RADAR_2012-2021.xlsx')"
   ]
  },
  {
   "cell_type": "code",
   "execution_count": 10,
   "id": "51ec37e5-ac10-43ed-ba1d-a17942e68dff",
   "metadata": {
    "tags": []
   },
   "outputs": [
    {
     "data": {
      "text/html": [
       "<div>\n",
       "<style scoped>\n",
       "    .dataframe tbody tr th:only-of-type {\n",
       "        vertical-align: middle;\n",
       "    }\n",
       "\n",
       "    .dataframe tbody tr th {\n",
       "        vertical-align: top;\n",
       "    }\n",
       "\n",
       "    .dataframe thead th {\n",
       "        text-align: right;\n",
       "    }\n",
       "</style>\n",
       "<table border=\"1\" class=\"dataframe\">\n",
       "  <thead>\n",
       "    <tr style=\"text-align: right;\">\n",
       "      <th></th>\n",
       "      <th>ANO</th>\n",
       "      <th>AGREGACAO</th>\n",
       "      <th>CODIGO</th>\n",
       "      <th>NOME</th>\n",
       "      <th>IDHM</th>\n",
       "      <th>IDHM_L</th>\n",
       "      <th>IDHM_E</th>\n",
       "      <th>IDHM_R</th>\n",
       "      <th>I_ESCOLARIDADE</th>\n",
       "      <th>I_FREQ_PROP</th>\n",
       "      <th>...</th>\n",
       "      <th>POP6A17</th>\n",
       "      <th>POP11A13</th>\n",
       "      <th>POP15A17</th>\n",
       "      <th>POP15M</th>\n",
       "      <th>POP18A20</th>\n",
       "      <th>POP18A24</th>\n",
       "      <th>POP18M</th>\n",
       "      <th>POP25M</th>\n",
       "      <th>POP65M</th>\n",
       "      <th>POPOCUP18M</th>\n",
       "    </tr>\n",
       "  </thead>\n",
       "  <tbody>\n",
       "    <tr>\n",
       "      <th>0</th>\n",
       "      <td>2012</td>\n",
       "      <td>BRASIL</td>\n",
       "      <td>NaN</td>\n",
       "      <td>NaN</td>\n",
       "      <td>0.746</td>\n",
       "      <td>0.825</td>\n",
       "      <td>0.687</td>\n",
       "      <td>0.732</td>\n",
       "      <td>0.606</td>\n",
       "      <td>0.731</td>\n",
       "      <td>...</td>\n",
       "      <td>39808859</td>\n",
       "      <td>10304212</td>\n",
       "      <td>10609288</td>\n",
       "      <td>150994845</td>\n",
       "      <td>10076087</td>\n",
       "      <td>23924348</td>\n",
       "      <td>140385557</td>\n",
       "      <td>116461209</td>\n",
       "      <td>15249133</td>\n",
       "      <td>84277753</td>\n",
       "    </tr>\n",
       "    <tr>\n",
       "      <th>1</th>\n",
       "      <td>2013</td>\n",
       "      <td>BRASIL</td>\n",
       "      <td>NaN</td>\n",
       "      <td>NaN</td>\n",
       "      <td>0.753</td>\n",
       "      <td>0.830</td>\n",
       "      <td>0.698</td>\n",
       "      <td>0.737</td>\n",
       "      <td>0.615</td>\n",
       "      <td>0.744</td>\n",
       "      <td>...</td>\n",
       "      <td>39055262</td>\n",
       "      <td>9986737</td>\n",
       "      <td>10521249</td>\n",
       "      <td>153338252</td>\n",
       "      <td>10336071</td>\n",
       "      <td>24034903</td>\n",
       "      <td>142817003</td>\n",
       "      <td>118782100</td>\n",
       "      <td>15820311</td>\n",
       "      <td>86108710</td>\n",
       "    </tr>\n",
       "    <tr>\n",
       "      <th>2</th>\n",
       "      <td>2014</td>\n",
       "      <td>BRASIL</td>\n",
       "      <td>NaN</td>\n",
       "      <td>NaN</td>\n",
       "      <td>0.762</td>\n",
       "      <td>0.835</td>\n",
       "      <td>0.715</td>\n",
       "      <td>0.741</td>\n",
       "      <td>0.630</td>\n",
       "      <td>0.761</td>\n",
       "      <td>...</td>\n",
       "      <td>38765780</td>\n",
       "      <td>9687655</td>\n",
       "      <td>10446675</td>\n",
       "      <td>155356978</td>\n",
       "      <td>10224771</td>\n",
       "      <td>23840076</td>\n",
       "      <td>144910303</td>\n",
       "      <td>121070227</td>\n",
       "      <td>16425141</td>\n",
       "      <td>87308460</td>\n",
       "    </tr>\n",
       "    <tr>\n",
       "      <th>3</th>\n",
       "      <td>2015</td>\n",
       "      <td>BRASIL</td>\n",
       "      <td>NaN</td>\n",
       "      <td>NaN</td>\n",
       "      <td>0.765</td>\n",
       "      <td>0.840</td>\n",
       "      <td>0.724</td>\n",
       "      <td>0.736</td>\n",
       "      <td>0.642</td>\n",
       "      <td>0.769</td>\n",
       "      <td>...</td>\n",
       "      <td>38189476</td>\n",
       "      <td>9314133</td>\n",
       "      <td>10401307</td>\n",
       "      <td>157576293</td>\n",
       "      <td>10394554</td>\n",
       "      <td>23851445</td>\n",
       "      <td>147174986</td>\n",
       "      <td>123323541</td>\n",
       "      <td>17060247</td>\n",
       "      <td>87756538</td>\n",
       "    </tr>\n",
       "    <tr>\n",
       "      <th>4</th>\n",
       "      <td>2016</td>\n",
       "      <td>BRASIL</td>\n",
       "      <td>NaN</td>\n",
       "      <td>NaN</td>\n",
       "      <td>0.771</td>\n",
       "      <td>0.845</td>\n",
       "      <td>0.740</td>\n",
       "      <td>0.734</td>\n",
       "      <td>0.657</td>\n",
       "      <td>0.786</td>\n",
       "      <td>...</td>\n",
       "      <td>37694949</td>\n",
       "      <td>9288033</td>\n",
       "      <td>10375148</td>\n",
       "      <td>159692542</td>\n",
       "      <td>10242815</td>\n",
       "      <td>23779687</td>\n",
       "      <td>149317393</td>\n",
       "      <td>125537706</td>\n",
       "      <td>17728449</td>\n",
       "      <td>87110394</td>\n",
       "    </tr>\n",
       "    <tr>\n",
       "      <th>5</th>\n",
       "      <td>2017</td>\n",
       "      <td>BRASIL</td>\n",
       "      <td>NaN</td>\n",
       "      <td>NaN</td>\n",
       "      <td>0.774</td>\n",
       "      <td>0.849</td>\n",
       "      <td>0.742</td>\n",
       "      <td>0.735</td>\n",
       "      <td>0.655</td>\n",
       "      <td>0.789</td>\n",
       "      <td>...</td>\n",
       "      <td>36965134</td>\n",
       "      <td>9178387</td>\n",
       "      <td>9987551</td>\n",
       "      <td>161671766</td>\n",
       "      <td>10306849</td>\n",
       "      <td>23975663</td>\n",
       "      <td>151684215</td>\n",
       "      <td>127708552</td>\n",
       "      <td>18431296</td>\n",
       "      <td>87616245</td>\n",
       "    </tr>\n",
       "    <tr>\n",
       "      <th>6</th>\n",
       "      <td>2018</td>\n",
       "      <td>BRASIL</td>\n",
       "      <td>NaN</td>\n",
       "      <td>NaN</td>\n",
       "      <td>0.780</td>\n",
       "      <td>0.854</td>\n",
       "      <td>0.749</td>\n",
       "      <td>0.741</td>\n",
       "      <td>0.662</td>\n",
       "      <td>0.797</td>\n",
       "      <td>...</td>\n",
       "      <td>36460225</td>\n",
       "      <td>9041166</td>\n",
       "      <td>9641591</td>\n",
       "      <td>163492349</td>\n",
       "      <td>10093878</td>\n",
       "      <td>23998725</td>\n",
       "      <td>153850757</td>\n",
       "      <td>129852032</td>\n",
       "      <td>19168661</td>\n",
       "      <td>89281706</td>\n",
       "    </tr>\n",
       "    <tr>\n",
       "      <th>7</th>\n",
       "      <td>2019</td>\n",
       "      <td>BRASIL</td>\n",
       "      <td>NaN</td>\n",
       "      <td>NaN</td>\n",
       "      <td>0.785</td>\n",
       "      <td>0.858</td>\n",
       "      <td>0.760</td>\n",
       "      <td>0.743</td>\n",
       "      <td>0.674</td>\n",
       "      <td>0.807</td>\n",
       "      <td>...</td>\n",
       "      <td>35999274</td>\n",
       "      <td>8951264</td>\n",
       "      <td>9389698</td>\n",
       "      <td>165329825</td>\n",
       "      <td>10194743</td>\n",
       "      <td>23952392</td>\n",
       "      <td>155940127</td>\n",
       "      <td>131987735</td>\n",
       "      <td>19941230</td>\n",
       "      <td>91579200</td>\n",
       "    </tr>\n",
       "    <tr>\n",
       "      <th>8</th>\n",
       "      <td>2020</td>\n",
       "      <td>BRASIL</td>\n",
       "      <td>NaN</td>\n",
       "      <td>NaN</td>\n",
       "      <td>0.784</td>\n",
       "      <td>0.854</td>\n",
       "      <td>0.768</td>\n",
       "      <td>0.736</td>\n",
       "      <td>0.695</td>\n",
       "      <td>0.807</td>\n",
       "      <td>...</td>\n",
       "      <td>35750038</td>\n",
       "      <td>8751715</td>\n",
       "      <td>9357153</td>\n",
       "      <td>167005197</td>\n",
       "      <td>9806225</td>\n",
       "      <td>23521448</td>\n",
       "      <td>157648044</td>\n",
       "      <td>134126596</td>\n",
       "      <td>20748553</td>\n",
       "      <td>83946549</td>\n",
       "    </tr>\n",
       "    <tr>\n",
       "      <th>9</th>\n",
       "      <td>2021</td>\n",
       "      <td>BRASIL</td>\n",
       "      <td>NaN</td>\n",
       "      <td>NaN</td>\n",
       "      <td>0.766</td>\n",
       "      <td>0.819</td>\n",
       "      <td>0.757</td>\n",
       "      <td>0.724</td>\n",
       "      <td>0.703</td>\n",
       "      <td>0.785</td>\n",
       "      <td>...</td>\n",
       "      <td>35708677</td>\n",
       "      <td>8708856</td>\n",
       "      <td>9273169</td>\n",
       "      <td>168679921</td>\n",
       "      <td>9546945</td>\n",
       "      <td>23143737</td>\n",
       "      <td>159406751</td>\n",
       "      <td>136263014</td>\n",
       "      <td>21590309</td>\n",
       "      <td>86645408</td>\n",
       "    </tr>\n",
       "    <tr>\n",
       "      <th>10</th>\n",
       "      <td>2012</td>\n",
       "      <td>UF</td>\n",
       "      <td>11.0</td>\n",
       "      <td>Rondônia</td>\n",
       "      <td>0.694</td>\n",
       "      <td>0.758</td>\n",
       "      <td>0.637</td>\n",
       "      <td>0.692</td>\n",
       "      <td>0.573</td>\n",
       "      <td>0.672</td>\n",
       "      <td>...</td>\n",
       "      <td>376608</td>\n",
       "      <td>97777</td>\n",
       "      <td>98337</td>\n",
       "      <td>1178946</td>\n",
       "      <td>95589</td>\n",
       "      <td>214469</td>\n",
       "      <td>1080609</td>\n",
       "      <td>866139</td>\n",
       "      <td>76506</td>\n",
       "      <td>671531</td>\n",
       "    </tr>\n",
       "  </tbody>\n",
       "</table>\n",
       "<p>11 rows × 83 columns</p>\n",
       "</div>"
      ],
      "text/plain": [
       "     ANO AGREGACAO  CODIGO      NOME   IDHM  IDHM_L  IDHM_E  IDHM_R  \\\n",
       "0   2012    BRASIL     NaN       NaN  0.746   0.825   0.687   0.732   \n",
       "1   2013    BRASIL     NaN       NaN  0.753   0.830   0.698   0.737   \n",
       "2   2014    BRASIL     NaN       NaN  0.762   0.835   0.715   0.741   \n",
       "3   2015    BRASIL     NaN       NaN  0.765   0.840   0.724   0.736   \n",
       "4   2016    BRASIL     NaN       NaN  0.771   0.845   0.740   0.734   \n",
       "5   2017    BRASIL     NaN       NaN  0.774   0.849   0.742   0.735   \n",
       "6   2018    BRASIL     NaN       NaN  0.780   0.854   0.749   0.741   \n",
       "7   2019    BRASIL     NaN       NaN  0.785   0.858   0.760   0.743   \n",
       "8   2020    BRASIL     NaN       NaN  0.784   0.854   0.768   0.736   \n",
       "9   2021    BRASIL     NaN       NaN  0.766   0.819   0.757   0.724   \n",
       "10  2012        UF    11.0  Rondônia  0.694   0.758   0.637   0.692   \n",
       "\n",
       "    I_ESCOLARIDADE  I_FREQ_PROP  ...   POP6A17  POP11A13  POP15A17     POP15M  \\\n",
       "0            0.606        0.731  ...  39808859  10304212  10609288  150994845   \n",
       "1            0.615        0.744  ...  39055262   9986737  10521249  153338252   \n",
       "2            0.630        0.761  ...  38765780   9687655  10446675  155356978   \n",
       "3            0.642        0.769  ...  38189476   9314133  10401307  157576293   \n",
       "4            0.657        0.786  ...  37694949   9288033  10375148  159692542   \n",
       "5            0.655        0.789  ...  36965134   9178387   9987551  161671766   \n",
       "6            0.662        0.797  ...  36460225   9041166   9641591  163492349   \n",
       "7            0.674        0.807  ...  35999274   8951264   9389698  165329825   \n",
       "8            0.695        0.807  ...  35750038   8751715   9357153  167005197   \n",
       "9            0.703        0.785  ...  35708677   8708856   9273169  168679921   \n",
       "10           0.573        0.672  ...    376608     97777     98337    1178946   \n",
       "\n",
       "    POP18A20  POP18A24     POP18M     POP25M    POP65M  POPOCUP18M  \n",
       "0   10076087  23924348  140385557  116461209  15249133    84277753  \n",
       "1   10336071  24034903  142817003  118782100  15820311    86108710  \n",
       "2   10224771  23840076  144910303  121070227  16425141    87308460  \n",
       "3   10394554  23851445  147174986  123323541  17060247    87756538  \n",
       "4   10242815  23779687  149317393  125537706  17728449    87110394  \n",
       "5   10306849  23975663  151684215  127708552  18431296    87616245  \n",
       "6   10093878  23998725  153850757  129852032  19168661    89281706  \n",
       "7   10194743  23952392  155940127  131987735  19941230    91579200  \n",
       "8    9806225  23521448  157648044  134126596  20748553    83946549  \n",
       "9    9546945  23143737  159406751  136263014  21590309    86645408  \n",
       "10     95589    214469    1080609     866139     76506      671531  \n",
       "\n",
       "[11 rows x 83 columns]"
      ]
     },
     "execution_count": 10,
     "metadata": {},
     "output_type": "execute_result"
    }
   ],
   "source": [
    "df_mul_siafi_ibge.head(11)"
   ]
  },
  {
   "cell_type": "code",
   "execution_count": 11,
   "id": "afa26f51-145c-4273-8ca2-817d6ae8da96",
   "metadata": {
    "tags": []
   },
   "outputs": [
    {
     "data": {
      "text/plain": [
       "Index(['ANO', 'AGREGACAO', 'CODIGO', 'NOME', 'IDHM', 'IDHM_L', 'IDHM_E',\n",
       "       'IDHM_R', 'I_ESCOLARIDADE', 'I_FREQ_PROP', 'IDHMAD', 'IDHMAD_L',\n",
       "       'IDHMAD_E', 'IDHMAD_R', 'ATK_ESPVIDA', 'ATK_ANOSEST', 'ATK_RDPC',\n",
       "       'IDHMAD_PERDA', 'IDHMAD_L_PERDA', 'IDHMAD_E_PERDA', 'IDHMAD_R_PERDA',\n",
       "       'IDHMAD_COEF', 'ESPVIDA', 'MORT1', 'T_ENV', 'RAZDEP', 'T_FREQ5A6',\n",
       "       'T_FUND11A13', 'T_FUND15A17', 'T_MED18A20', 'T_FUND18M', 'ANOSEST',\n",
       "       'T_ANALF15M', 'T_ANALF18M', 'T_ANALF25M', 'T_FREQ6A14', 'T_FREQ15A17',\n",
       "       'T_FREQ18A24', 'T_FUND18A24', 'T_FUND25M', 'T_MED25M', 'T_SUPER25M',\n",
       "       'T_ATRASO_2_BASICO', 'T_ATRASO_2_FUND', 'T_FLBAS', 'T_FLFUND',\n",
       "       'T_FLMED', 'T_FLSUPER', 'RDPC', 'RDPCT', 'RENOCUP', 'PRENTRAB', 'RDPC1',\n",
       "       'RDPC2', 'RDPC3', 'RDPC4', 'RDPC5', 'RDPC10', 'R1040', 'R2040', 'GINI',\n",
       "       'THEIL', 'PIND', 'PMPOB', 'PPOB', 'RIND', 'RMPOB', 'RPOB', 'POPTOT',\n",
       "       'POP', 'POPT', 'POP5A6', 'POP6A14', 'POP6A17', 'POP11A13', 'POP15A17',\n",
       "       'POP15M', 'POP18A20', 'POP18A24', 'POP18M', 'POP25M', 'POP65M',\n",
       "       'POPOCUP18M'],\n",
       "      dtype='object')"
      ]
     },
     "execution_count": 11,
     "metadata": {},
     "output_type": "execute_result"
    }
   ],
   "source": [
    "df_mul_siafi_ibge.columns"
   ]
  },
  {
   "cell_type": "markdown",
   "id": "87d2d77e-fbe6-481a-b106-fcaa1eb0951d",
   "metadata": {},
   "source": [
    "## Fazendo análise do resultado dos indicadores:\n",
    "### - IDHM: Índice de Desenvolvimento Humano Municipal;\n",
    "### - ESPVIDA: Esperança de vida ao nascer (IDH);\n",
    "### - ANOSEST: Média de anos de estudo (IDH).\n"
   ]
  },
  {
   "cell_type": "code",
   "execution_count": 12,
   "id": "19735936-2bea-4227-9b47-38443e54c1dc",
   "metadata": {
    "tags": []
   },
   "outputs": [],
   "source": [
    "df_dim_soc_idh = df_mul_siafi_ibge.drop(columns=['IDHM_L', 'IDHM_E',\n",
    "       'IDHM_R', 'I_ESCOLARIDADE', 'I_FREQ_PROP', 'IDHMAD', 'IDHMAD_L',\n",
    "       'IDHMAD_E', 'IDHMAD_R', 'ATK_ESPVIDA', 'ATK_ANOSEST', 'ATK_RDPC',\n",
    "       'IDHMAD_PERDA', 'IDHMAD_L_PERDA', 'IDHMAD_E_PERDA', 'IDHMAD_R_PERDA',\n",
    "       'IDHMAD_COEF', 'MORT1', 'T_ENV', 'RAZDEP', 'T_FREQ5A6',\n",
    "       'T_FUND11A13', 'T_FUND15A17', 'T_MED18A20', 'T_FUND18M', 'T_ANALF15M', 'T_ANALF18M', 'T_ANALF25M', 'T_FREQ6A14', 'T_FREQ15A17',\n",
    "       'T_FREQ18A24', 'T_FUND18A24', 'T_FUND25M', 'T_MED25M', 'T_SUPER25M',\n",
    "       'T_ATRASO_2_BASICO', 'T_ATRASO_2_FUND', 'T_FLBAS', 'T_FLFUND',\n",
    "       'T_FLMED', 'T_FLSUPER', 'RDPC', 'RDPCT', 'RENOCUP', 'PRENTRAB', 'RDPC1',\n",
    "       'RDPC2', 'RDPC3', 'RDPC4', 'RDPC5', 'RDPC10', 'R1040', 'R2040', 'GINI',\n",
    "       'THEIL', 'PIND', 'PMPOB', 'PPOB', 'RIND', 'RMPOB', 'RPOB', 'POPTOT',\n",
    "       'POP', 'POPT', 'POP5A6', 'POP6A14', 'POP6A17', 'POP11A13', 'POP15A17',\n",
    "       'POP15M', 'POP18A20', 'POP18A24', 'POP18M', 'POP25M', 'POP65M',\n",
    "       'POPOCUP18M'])"
   ]
  },
  {
   "cell_type": "code",
   "execution_count": 13,
   "id": "4aac1276-485b-460d-bb55-b82b00a7a492",
   "metadata": {
    "tags": []
   },
   "outputs": [
    {
     "data": {
      "text/html": [
       "<div>\n",
       "<style scoped>\n",
       "    .dataframe tbody tr th:only-of-type {\n",
       "        vertical-align: middle;\n",
       "    }\n",
       "\n",
       "    .dataframe tbody tr th {\n",
       "        vertical-align: top;\n",
       "    }\n",
       "\n",
       "    .dataframe thead th {\n",
       "        text-align: right;\n",
       "    }\n",
       "</style>\n",
       "<table border=\"1\" class=\"dataframe\">\n",
       "  <thead>\n",
       "    <tr style=\"text-align: right;\">\n",
       "      <th></th>\n",
       "      <th>ANO</th>\n",
       "      <th>AGREGACAO</th>\n",
       "      <th>CODIGO</th>\n",
       "      <th>NOME</th>\n",
       "      <th>IDHM</th>\n",
       "      <th>ESPVIDA</th>\n",
       "      <th>ANOSEST</th>\n",
       "    </tr>\n",
       "  </thead>\n",
       "  <tbody>\n",
       "    <tr>\n",
       "      <th>0</th>\n",
       "      <td>2012</td>\n",
       "      <td>BRASIL</td>\n",
       "      <td>NaN</td>\n",
       "      <td>NaN</td>\n",
       "      <td>0.746</td>\n",
       "      <td>74.48</td>\n",
       "      <td>8.56</td>\n",
       "    </tr>\n",
       "    <tr>\n",
       "      <th>1</th>\n",
       "      <td>2013</td>\n",
       "      <td>BRASIL</td>\n",
       "      <td>NaN</td>\n",
       "      <td>NaN</td>\n",
       "      <td>0.753</td>\n",
       "      <td>74.80</td>\n",
       "      <td>8.69</td>\n",
       "    </tr>\n",
       "    <tr>\n",
       "      <th>2</th>\n",
       "      <td>2014</td>\n",
       "      <td>BRASIL</td>\n",
       "      <td>NaN</td>\n",
       "      <td>NaN</td>\n",
       "      <td>0.762</td>\n",
       "      <td>75.11</td>\n",
       "      <td>8.88</td>\n",
       "    </tr>\n",
       "    <tr>\n",
       "      <th>3</th>\n",
       "      <td>2015</td>\n",
       "      <td>BRASIL</td>\n",
       "      <td>NaN</td>\n",
       "      <td>NaN</td>\n",
       "      <td>0.765</td>\n",
       "      <td>75.40</td>\n",
       "      <td>9.03</td>\n",
       "    </tr>\n",
       "    <tr>\n",
       "      <th>4</th>\n",
       "      <td>2016</td>\n",
       "      <td>BRASIL</td>\n",
       "      <td>NaN</td>\n",
       "      <td>NaN</td>\n",
       "      <td>0.771</td>\n",
       "      <td>75.68</td>\n",
       "      <td>9.13</td>\n",
       "    </tr>\n",
       "  </tbody>\n",
       "</table>\n",
       "</div>"
      ],
      "text/plain": [
       "    ANO AGREGACAO  CODIGO NOME   IDHM  ESPVIDA  ANOSEST\n",
       "0  2012    BRASIL     NaN  NaN  0.746    74.48     8.56\n",
       "1  2013    BRASIL     NaN  NaN  0.753    74.80     8.69\n",
       "2  2014    BRASIL     NaN  NaN  0.762    75.11     8.88\n",
       "3  2015    BRASIL     NaN  NaN  0.765    75.40     9.03\n",
       "4  2016    BRASIL     NaN  NaN  0.771    75.68     9.13"
      ]
     },
     "execution_count": 13,
     "metadata": {},
     "output_type": "execute_result"
    }
   ],
   "source": [
    "df_dim_soc_idh.head()"
   ]
  },
  {
   "cell_type": "code",
   "execution_count": 14,
   "id": "3f37d70c-2100-4f0f-b83c-e8879fc27f01",
   "metadata": {
    "tags": []
   },
   "outputs": [
    {
     "name": "stdout",
     "output_type": "stream",
     "text": [
      "<class 'pandas.core.frame.DataFrame'>\n",
      "RangeIndex: 490 entries, 0 to 489\n",
      "Data columns (total 7 columns):\n",
      " #   Column     Non-Null Count  Dtype  \n",
      "---  ------     --------------  -----  \n",
      " 0   ANO        490 non-null    int64  \n",
      " 1   AGREGACAO  490 non-null    object \n",
      " 2   CODIGO     480 non-null    float64\n",
      " 3   NOME       480 non-null    object \n",
      " 4   IDHM       490 non-null    float64\n",
      " 5   ESPVIDA    490 non-null    float64\n",
      " 6   ANOSEST    490 non-null    float64\n",
      "dtypes: float64(4), int64(1), object(2)\n",
      "memory usage: 26.9+ KB\n"
     ]
    }
   ],
   "source": [
    "df_dim_soc_idh.info()"
   ]
  },
  {
   "cell_type": "code",
   "execution_count": 15,
   "id": "b995169d-f0d7-4f07-ad84-96ac075dfdaf",
   "metadata": {
    "tags": []
   },
   "outputs": [],
   "source": [
    "df_dim_soc_idh['ANO'] = pd.to_datetime(df_dim_soc_idh['ANO'], format='%Y')"
   ]
  },
  {
   "cell_type": "code",
   "execution_count": 16,
   "id": "e1fea3c6-b6fb-4fd8-ad6b-978708925d82",
   "metadata": {
    "tags": []
   },
   "outputs": [
    {
     "data": {
      "text/html": [
       "<div>\n",
       "<style scoped>\n",
       "    .dataframe tbody tr th:only-of-type {\n",
       "        vertical-align: middle;\n",
       "    }\n",
       "\n",
       "    .dataframe tbody tr th {\n",
       "        vertical-align: top;\n",
       "    }\n",
       "\n",
       "    .dataframe thead th {\n",
       "        text-align: right;\n",
       "    }\n",
       "</style>\n",
       "<table border=\"1\" class=\"dataframe\">\n",
       "  <thead>\n",
       "    <tr style=\"text-align: right;\">\n",
       "      <th></th>\n",
       "      <th>ANO</th>\n",
       "      <th>AGREGACAO</th>\n",
       "      <th>CODIGO</th>\n",
       "      <th>NOME</th>\n",
       "      <th>IDHM</th>\n",
       "      <th>ESPVIDA</th>\n",
       "      <th>ANOSEST</th>\n",
       "    </tr>\n",
       "  </thead>\n",
       "  <tbody>\n",
       "    <tr>\n",
       "      <th>0</th>\n",
       "      <td>2012-01-01</td>\n",
       "      <td>BRASIL</td>\n",
       "      <td>NaN</td>\n",
       "      <td>NaN</td>\n",
       "      <td>0.746</td>\n",
       "      <td>74.48</td>\n",
       "      <td>8.56</td>\n",
       "    </tr>\n",
       "    <tr>\n",
       "      <th>1</th>\n",
       "      <td>2013-01-01</td>\n",
       "      <td>BRASIL</td>\n",
       "      <td>NaN</td>\n",
       "      <td>NaN</td>\n",
       "      <td>0.753</td>\n",
       "      <td>74.80</td>\n",
       "      <td>8.69</td>\n",
       "    </tr>\n",
       "    <tr>\n",
       "      <th>2</th>\n",
       "      <td>2014-01-01</td>\n",
       "      <td>BRASIL</td>\n",
       "      <td>NaN</td>\n",
       "      <td>NaN</td>\n",
       "      <td>0.762</td>\n",
       "      <td>75.11</td>\n",
       "      <td>8.88</td>\n",
       "    </tr>\n",
       "    <tr>\n",
       "      <th>3</th>\n",
       "      <td>2015-01-01</td>\n",
       "      <td>BRASIL</td>\n",
       "      <td>NaN</td>\n",
       "      <td>NaN</td>\n",
       "      <td>0.765</td>\n",
       "      <td>75.40</td>\n",
       "      <td>9.03</td>\n",
       "    </tr>\n",
       "    <tr>\n",
       "      <th>4</th>\n",
       "      <td>2016-01-01</td>\n",
       "      <td>BRASIL</td>\n",
       "      <td>NaN</td>\n",
       "      <td>NaN</td>\n",
       "      <td>0.771</td>\n",
       "      <td>75.68</td>\n",
       "      <td>9.13</td>\n",
       "    </tr>\n",
       "  </tbody>\n",
       "</table>\n",
       "</div>"
      ],
      "text/plain": [
       "         ANO AGREGACAO  CODIGO NOME   IDHM  ESPVIDA  ANOSEST\n",
       "0 2012-01-01    BRASIL     NaN  NaN  0.746    74.48     8.56\n",
       "1 2013-01-01    BRASIL     NaN  NaN  0.753    74.80     8.69\n",
       "2 2014-01-01    BRASIL     NaN  NaN  0.762    75.11     8.88\n",
       "3 2015-01-01    BRASIL     NaN  NaN  0.765    75.40     9.03\n",
       "4 2016-01-01    BRASIL     NaN  NaN  0.771    75.68     9.13"
      ]
     },
     "execution_count": 16,
     "metadata": {},
     "output_type": "execute_result"
    }
   ],
   "source": [
    "df_dim_soc_idh.head()"
   ]
  },
  {
   "cell_type": "code",
   "execution_count": 17,
   "id": "a9f61723-77ad-46af-8b02-c4b631dfc670",
   "metadata": {
    "tags": []
   },
   "outputs": [
    {
     "name": "stdout",
     "output_type": "stream",
     "text": [
      "<class 'pandas.core.frame.DataFrame'>\n",
      "RangeIndex: 490 entries, 0 to 489\n",
      "Data columns (total 7 columns):\n",
      " #   Column     Non-Null Count  Dtype         \n",
      "---  ------     --------------  -----         \n",
      " 0   ANO        490 non-null    datetime64[ns]\n",
      " 1   AGREGACAO  490 non-null    object        \n",
      " 2   CODIGO     480 non-null    float64       \n",
      " 3   NOME       480 non-null    object        \n",
      " 4   IDHM       490 non-null    float64       \n",
      " 5   ESPVIDA    490 non-null    float64       \n",
      " 6   ANOSEST    490 non-null    float64       \n",
      "dtypes: datetime64[ns](1), float64(4), object(2)\n",
      "memory usage: 26.9+ KB\n"
     ]
    }
   ],
   "source": [
    "df_dim_soc_idh.info()"
   ]
  },
  {
   "cell_type": "code",
   "execution_count": 18,
   "id": "11d47f79-db23-44fb-a4c7-f669389ee05e",
   "metadata": {
    "tags": []
   },
   "outputs": [],
   "source": [
    "import pandas as pd\n",
    "\n",
    "# Extrair o ano da coluna \"Referência\"\n",
    "df_dim_soc_idh['Ano'] = df_dim_soc_idh['ANO'].dt.year\n",
    "\n"
   ]
  },
  {
   "cell_type": "code",
   "execution_count": 19,
   "id": "76f64929-6dfc-4b5d-8e4c-0b4f59639b1d",
   "metadata": {
    "tags": []
   },
   "outputs": [
    {
     "data": {
      "text/html": [
       "<div>\n",
       "<style scoped>\n",
       "    .dataframe tbody tr th:only-of-type {\n",
       "        vertical-align: middle;\n",
       "    }\n",
       "\n",
       "    .dataframe tbody tr th {\n",
       "        vertical-align: top;\n",
       "    }\n",
       "\n",
       "    .dataframe thead th {\n",
       "        text-align: right;\n",
       "    }\n",
       "</style>\n",
       "<table border=\"1\" class=\"dataframe\">\n",
       "  <thead>\n",
       "    <tr style=\"text-align: right;\">\n",
       "      <th></th>\n",
       "      <th>ANO</th>\n",
       "      <th>AGREGACAO</th>\n",
       "      <th>CODIGO</th>\n",
       "      <th>NOME</th>\n",
       "      <th>IDHM</th>\n",
       "      <th>ESPVIDA</th>\n",
       "      <th>ANOSEST</th>\n",
       "      <th>Ano</th>\n",
       "    </tr>\n",
       "  </thead>\n",
       "  <tbody>\n",
       "    <tr>\n",
       "      <th>0</th>\n",
       "      <td>2012-01-01</td>\n",
       "      <td>BRASIL</td>\n",
       "      <td>NaN</td>\n",
       "      <td>NaN</td>\n",
       "      <td>0.746</td>\n",
       "      <td>74.48</td>\n",
       "      <td>8.56</td>\n",
       "      <td>2012</td>\n",
       "    </tr>\n",
       "    <tr>\n",
       "      <th>1</th>\n",
       "      <td>2013-01-01</td>\n",
       "      <td>BRASIL</td>\n",
       "      <td>NaN</td>\n",
       "      <td>NaN</td>\n",
       "      <td>0.753</td>\n",
       "      <td>74.80</td>\n",
       "      <td>8.69</td>\n",
       "      <td>2013</td>\n",
       "    </tr>\n",
       "    <tr>\n",
       "      <th>2</th>\n",
       "      <td>2014-01-01</td>\n",
       "      <td>BRASIL</td>\n",
       "      <td>NaN</td>\n",
       "      <td>NaN</td>\n",
       "      <td>0.762</td>\n",
       "      <td>75.11</td>\n",
       "      <td>8.88</td>\n",
       "      <td>2014</td>\n",
       "    </tr>\n",
       "    <tr>\n",
       "      <th>3</th>\n",
       "      <td>2015-01-01</td>\n",
       "      <td>BRASIL</td>\n",
       "      <td>NaN</td>\n",
       "      <td>NaN</td>\n",
       "      <td>0.765</td>\n",
       "      <td>75.40</td>\n",
       "      <td>9.03</td>\n",
       "      <td>2015</td>\n",
       "    </tr>\n",
       "    <tr>\n",
       "      <th>4</th>\n",
       "      <td>2016-01-01</td>\n",
       "      <td>BRASIL</td>\n",
       "      <td>NaN</td>\n",
       "      <td>NaN</td>\n",
       "      <td>0.771</td>\n",
       "      <td>75.68</td>\n",
       "      <td>9.13</td>\n",
       "      <td>2016</td>\n",
       "    </tr>\n",
       "  </tbody>\n",
       "</table>\n",
       "</div>"
      ],
      "text/plain": [
       "         ANO AGREGACAO  CODIGO NOME   IDHM  ESPVIDA  ANOSEST   Ano\n",
       "0 2012-01-01    BRASIL     NaN  NaN  0.746    74.48     8.56  2012\n",
       "1 2013-01-01    BRASIL     NaN  NaN  0.753    74.80     8.69  2013\n",
       "2 2014-01-01    BRASIL     NaN  NaN  0.762    75.11     8.88  2014\n",
       "3 2015-01-01    BRASIL     NaN  NaN  0.765    75.40     9.03  2015\n",
       "4 2016-01-01    BRASIL     NaN  NaN  0.771    75.68     9.13  2016"
      ]
     },
     "execution_count": 19,
     "metadata": {},
     "output_type": "execute_result"
    }
   ],
   "source": [
    "df_dim_soc_idh.head()"
   ]
  },
  {
   "cell_type": "code",
   "execution_count": 20,
   "id": "0cf986e7-27cd-4002-b662-967e64f86168",
   "metadata": {
    "tags": []
   },
   "outputs": [
    {
     "data": {
      "text/plain": [
       "Index(['ANO', 'AGREGACAO', 'CODIGO', 'NOME', 'IDHM', 'ESPVIDA', 'ANOSEST',\n",
       "       'Ano'],\n",
       "      dtype='object')"
      ]
     },
     "execution_count": 20,
     "metadata": {},
     "output_type": "execute_result"
    }
   ],
   "source": [
    "df_dim_soc_idh.columns"
   ]
  },
  {
   "cell_type": "code",
   "execution_count": 29,
   "id": "82618404-e170-427f-bb0d-93610e93304f",
   "metadata": {
    "tags": []
   },
   "outputs": [],
   "source": [
    "df_dim_soc_idh_BR = df_dim_soc_idh.drop(columns=['ANO', 'CODIGO', 'NOME'])"
   ]
  },
  {
   "cell_type": "code",
   "execution_count": 30,
   "id": "2fa77f2e-c1bd-495f-bd42-2ec1c558b8d6",
   "metadata": {
    "tags": []
   },
   "outputs": [
    {
     "data": {
      "text/html": [
       "<div>\n",
       "<style scoped>\n",
       "    .dataframe tbody tr th:only-of-type {\n",
       "        vertical-align: middle;\n",
       "    }\n",
       "\n",
       "    .dataframe tbody tr th {\n",
       "        vertical-align: top;\n",
       "    }\n",
       "\n",
       "    .dataframe thead th {\n",
       "        text-align: right;\n",
       "    }\n",
       "</style>\n",
       "<table border=\"1\" class=\"dataframe\">\n",
       "  <thead>\n",
       "    <tr style=\"text-align: right;\">\n",
       "      <th></th>\n",
       "      <th>AGREGACAO</th>\n",
       "      <th>IDHM</th>\n",
       "      <th>ESPVIDA</th>\n",
       "      <th>ANOSEST</th>\n",
       "      <th>Ano</th>\n",
       "    </tr>\n",
       "  </thead>\n",
       "  <tbody>\n",
       "    <tr>\n",
       "      <th>0</th>\n",
       "      <td>BRASIL</td>\n",
       "      <td>0.746</td>\n",
       "      <td>74.48</td>\n",
       "      <td>8.56</td>\n",
       "      <td>2012</td>\n",
       "    </tr>\n",
       "    <tr>\n",
       "      <th>1</th>\n",
       "      <td>BRASIL</td>\n",
       "      <td>0.753</td>\n",
       "      <td>74.80</td>\n",
       "      <td>8.69</td>\n",
       "      <td>2013</td>\n",
       "    </tr>\n",
       "    <tr>\n",
       "      <th>2</th>\n",
       "      <td>BRASIL</td>\n",
       "      <td>0.762</td>\n",
       "      <td>75.11</td>\n",
       "      <td>8.88</td>\n",
       "      <td>2014</td>\n",
       "    </tr>\n",
       "    <tr>\n",
       "      <th>3</th>\n",
       "      <td>BRASIL</td>\n",
       "      <td>0.765</td>\n",
       "      <td>75.40</td>\n",
       "      <td>9.03</td>\n",
       "      <td>2015</td>\n",
       "    </tr>\n",
       "    <tr>\n",
       "      <th>4</th>\n",
       "      <td>BRASIL</td>\n",
       "      <td>0.771</td>\n",
       "      <td>75.68</td>\n",
       "      <td>9.13</td>\n",
       "      <td>2016</td>\n",
       "    </tr>\n",
       "  </tbody>\n",
       "</table>\n",
       "</div>"
      ],
      "text/plain": [
       "  AGREGACAO   IDHM  ESPVIDA  ANOSEST   Ano\n",
       "0    BRASIL  0.746    74.48     8.56  2012\n",
       "1    BRASIL  0.753    74.80     8.69  2013\n",
       "2    BRASIL  0.762    75.11     8.88  2014\n",
       "3    BRASIL  0.765    75.40     9.03  2015\n",
       "4    BRASIL  0.771    75.68     9.13  2016"
      ]
     },
     "execution_count": 30,
     "metadata": {},
     "output_type": "execute_result"
    }
   ],
   "source": [
    "df_dim_soc_idh_BR.head()"
   ]
  },
  {
   "cell_type": "code",
   "execution_count": 31,
   "id": "c041c98b-7aea-48eb-9a01-78e03a1d64e8",
   "metadata": {
    "tags": []
   },
   "outputs": [
    {
     "name": "stdout",
     "output_type": "stream",
     "text": [
      "<class 'pandas.core.frame.DataFrame'>\n",
      "RangeIndex: 490 entries, 0 to 489\n",
      "Data columns (total 5 columns):\n",
      " #   Column     Non-Null Count  Dtype  \n",
      "---  ------     --------------  -----  \n",
      " 0   AGREGACAO  490 non-null    object \n",
      " 1   IDHM       490 non-null    float64\n",
      " 2   ESPVIDA    490 non-null    float64\n",
      " 3   ANOSEST    490 non-null    float64\n",
      " 4   Ano        490 non-null    int32  \n",
      "dtypes: float64(3), int32(1), object(1)\n",
      "memory usage: 17.4+ KB\n"
     ]
    }
   ],
   "source": [
    "df_dim_soc_idh_BR.info()"
   ]
  },
  {
   "cell_type": "code",
   "execution_count": 32,
   "id": "16a3de8c-c394-4b0b-ac8a-bbabce67f708",
   "metadata": {
    "tags": []
   },
   "outputs": [],
   "source": [
    "# Filtrar linhas onde a coluna 'coluna' contenha 'RM_RIDE'\n",
    "df_dim_soc_idh_BR = df_dim_soc_idh_BR[~df_dim_soc_idh_BR['AGREGACAO'].str.contains('RM_RIDE')]\n"
   ]
  },
  {
   "cell_type": "code",
   "execution_count": 33,
   "id": "a0e152a3-142d-426b-874d-c01bd19c9748",
   "metadata": {
    "tags": []
   },
   "outputs": [
    {
     "data": {
      "text/html": [
       "<div>\n",
       "<style scoped>\n",
       "    .dataframe tbody tr th:only-of-type {\n",
       "        vertical-align: middle;\n",
       "    }\n",
       "\n",
       "    .dataframe tbody tr th {\n",
       "        vertical-align: top;\n",
       "    }\n",
       "\n",
       "    .dataframe thead th {\n",
       "        text-align: right;\n",
       "    }\n",
       "</style>\n",
       "<table border=\"1\" class=\"dataframe\">\n",
       "  <thead>\n",
       "    <tr style=\"text-align: right;\">\n",
       "      <th></th>\n",
       "      <th>AGREGACAO</th>\n",
       "      <th>IDHM</th>\n",
       "      <th>ESPVIDA</th>\n",
       "      <th>ANOSEST</th>\n",
       "      <th>Ano</th>\n",
       "    </tr>\n",
       "  </thead>\n",
       "  <tbody>\n",
       "    <tr>\n",
       "      <th>275</th>\n",
       "      <td>UF</td>\n",
       "      <td>0.771</td>\n",
       "      <td>72.84</td>\n",
       "      <td>10.35</td>\n",
       "      <td>2021</td>\n",
       "    </tr>\n",
       "    <tr>\n",
       "      <th>276</th>\n",
       "      <td>UF</td>\n",
       "      <td>0.742</td>\n",
       "      <td>70.03</td>\n",
       "      <td>9.94</td>\n",
       "      <td>2021</td>\n",
       "    </tr>\n",
       "    <tr>\n",
       "      <th>277</th>\n",
       "      <td>UF</td>\n",
       "      <td>0.736</td>\n",
       "      <td>68.77</td>\n",
       "      <td>9.83</td>\n",
       "      <td>2021</td>\n",
       "    </tr>\n",
       "    <tr>\n",
       "      <th>278</th>\n",
       "      <td>UF</td>\n",
       "      <td>0.737</td>\n",
       "      <td>68.28</td>\n",
       "      <td>9.85</td>\n",
       "      <td>2021</td>\n",
       "    </tr>\n",
       "    <tr>\n",
       "      <th>279</th>\n",
       "      <td>UF</td>\n",
       "      <td>0.814</td>\n",
       "      <td>73.16</td>\n",
       "      <td>12.20</td>\n",
       "      <td>2021</td>\n",
       "    </tr>\n",
       "  </tbody>\n",
       "</table>\n",
       "</div>"
      ],
      "text/plain": [
       "    AGREGACAO   IDHM  ESPVIDA  ANOSEST   Ano\n",
       "275        UF  0.771    72.84    10.35  2021\n",
       "276        UF  0.742    70.03     9.94  2021\n",
       "277        UF  0.736    68.77     9.83  2021\n",
       "278        UF  0.737    68.28     9.85  2021\n",
       "279        UF  0.814    73.16    12.20  2021"
      ]
     },
     "execution_count": 33,
     "metadata": {},
     "output_type": "execute_result"
    }
   ],
   "source": [
    "df_dim_soc_idh_BR.tail()"
   ]
  },
  {
   "cell_type": "code",
   "execution_count": 34,
   "id": "49e53589-3e95-4537-9dd5-da448b385ec6",
   "metadata": {
    "tags": []
   },
   "outputs": [],
   "source": [
    "# Filtrar linhas onde a coluna 'coluna' contenha 'RM_RIDE'\n",
    "df_dim_soc_idh_BR = df_dim_soc_idh_BR[~df_dim_soc_idh_BR['AGREGACAO'].str.contains('UF')]"
   ]
  },
  {
   "cell_type": "code",
   "execution_count": 35,
   "id": "f1a7b7cd-d456-488d-adf0-9f52d96bd50a",
   "metadata": {
    "tags": []
   },
   "outputs": [
    {
     "data": {
      "text/html": [
       "<div>\n",
       "<style scoped>\n",
       "    .dataframe tbody tr th:only-of-type {\n",
       "        vertical-align: middle;\n",
       "    }\n",
       "\n",
       "    .dataframe tbody tr th {\n",
       "        vertical-align: top;\n",
       "    }\n",
       "\n",
       "    .dataframe thead th {\n",
       "        text-align: right;\n",
       "    }\n",
       "</style>\n",
       "<table border=\"1\" class=\"dataframe\">\n",
       "  <thead>\n",
       "    <tr style=\"text-align: right;\">\n",
       "      <th></th>\n",
       "      <th>AGREGACAO</th>\n",
       "      <th>IDHM</th>\n",
       "      <th>ESPVIDA</th>\n",
       "      <th>ANOSEST</th>\n",
       "      <th>Ano</th>\n",
       "    </tr>\n",
       "  </thead>\n",
       "  <tbody>\n",
       "    <tr>\n",
       "      <th>5</th>\n",
       "      <td>BRASIL</td>\n",
       "      <td>0.774</td>\n",
       "      <td>75.96</td>\n",
       "      <td>9.26</td>\n",
       "      <td>2017</td>\n",
       "    </tr>\n",
       "    <tr>\n",
       "      <th>6</th>\n",
       "      <td>BRASIL</td>\n",
       "      <td>0.780</td>\n",
       "      <td>76.22</td>\n",
       "      <td>9.45</td>\n",
       "      <td>2018</td>\n",
       "    </tr>\n",
       "    <tr>\n",
       "      <th>7</th>\n",
       "      <td>BRASIL</td>\n",
       "      <td>0.785</td>\n",
       "      <td>76.47</td>\n",
       "      <td>9.55</td>\n",
       "      <td>2019</td>\n",
       "    </tr>\n",
       "    <tr>\n",
       "      <th>8</th>\n",
       "      <td>BRASIL</td>\n",
       "      <td>0.784</td>\n",
       "      <td>76.21</td>\n",
       "      <td>9.82</td>\n",
       "      <td>2020</td>\n",
       "    </tr>\n",
       "    <tr>\n",
       "      <th>9</th>\n",
       "      <td>BRASIL</td>\n",
       "      <td>0.766</td>\n",
       "      <td>74.16</td>\n",
       "      <td>9.91</td>\n",
       "      <td>2021</td>\n",
       "    </tr>\n",
       "  </tbody>\n",
       "</table>\n",
       "</div>"
      ],
      "text/plain": [
       "  AGREGACAO   IDHM  ESPVIDA  ANOSEST   Ano\n",
       "5    BRASIL  0.774    75.96     9.26  2017\n",
       "6    BRASIL  0.780    76.22     9.45  2018\n",
       "7    BRASIL  0.785    76.47     9.55  2019\n",
       "8    BRASIL  0.784    76.21     9.82  2020\n",
       "9    BRASIL  0.766    74.16     9.91  2021"
      ]
     },
     "execution_count": 35,
     "metadata": {},
     "output_type": "execute_result"
    }
   ],
   "source": [
    "df_dim_soc_idh_BR.tail()"
   ]
  },
  {
   "cell_type": "code",
   "execution_count": 36,
   "id": "ef22f5de-0b43-4cdb-b2d9-9d7c344a2f66",
   "metadata": {
    "tags": []
   },
   "outputs": [
    {
     "name": "stdout",
     "output_type": "stream",
     "text": [
      "<class 'pandas.core.frame.DataFrame'>\n",
      "Index: 10 entries, 0 to 9\n",
      "Data columns (total 5 columns):\n",
      " #   Column     Non-Null Count  Dtype  \n",
      "---  ------     --------------  -----  \n",
      " 0   AGREGACAO  10 non-null     object \n",
      " 1   IDHM       10 non-null     float64\n",
      " 2   ESPVIDA    10 non-null     float64\n",
      " 3   ANOSEST    10 non-null     float64\n",
      " 4   Ano        10 non-null     int32  \n",
      "dtypes: float64(3), int32(1), object(1)\n",
      "memory usage: 440.0+ bytes\n"
     ]
    }
   ],
   "source": [
    "df_dim_soc_idh_BR.info()"
   ]
  },
  {
   "cell_type": "markdown",
   "id": "ac624535-ea9a-4b2c-a7b4-d4a954c2c37c",
   "metadata": {},
   "source": [
    "## Gráficos do indicador - Índice de Desenvolvimento Humano (IDH)"
   ]
  },
  {
   "cell_type": "code",
   "execution_count": 43,
   "id": "7d70ebb5-4b13-4ca1-8ce1-027cf7509a0e",
   "metadata": {
    "tags": []
   },
   "outputs": [
    {
     "data": {
      "image/png": "[encoded data removed]",
      "text/plain": [
       "<Figure size 1200x600 with 1 Axes>"
      ]
     },
     "metadata": {},
     "output_type": "display_data"
    }
   ],
   "source": [
    "# Plotando o gráfico de linhas\n",
    "plt.figure(figsize=(12, 6))\n",
    "\n",
    "plt.plot(df_dim_soc_idh_BR['Ano'], df_dim_soc_idh_BR['IDHM'])\n",
    "\n",
    "# Adicionando título e rótulos aos eixos\n",
    "plt.title('Índice de Desenvolvimento Humano Brasil')\n",
    "plt.xlabel('Ano')\n",
    "plt.ylabel('IDHM')\n",
    "plt.grid(True)\n",
    "\n",
    "plt.show()"
   ]
  },
  {
   "cell_type": "markdown",
   "id": "adc655c9-b8ae-4f79-9a8e-4001a7cd805e",
   "metadata": {},
   "source": [
    "## Gráficos do indicador - Esperança de vida ao nascer (IDH)"
   ]
  },
  {
   "cell_type": "code",
   "execution_count": 44,
   "id": "fb13caef-792d-4382-bf9d-74cab1b40466",
   "metadata": {
    "tags": []
   },
   "outputs": [
    {
     "data": {
      "text/html": [
       "<div>\n",
       "<style scoped>\n",
       "    .dataframe tbody tr th:only-of-type {\n",
       "        vertical-align: middle;\n",
       "    }\n",
       "\n",
       "    .dataframe tbody tr th {\n",
       "        vertical-align: top;\n",
       "    }\n",
       "\n",
       "    .dataframe thead th {\n",
       "        text-align: right;\n",
       "    }\n",
       "</style>\n",
       "<table border=\"1\" class=\"dataframe\">\n",
       "  <thead>\n",
       "    <tr style=\"text-align: right;\">\n",
       "      <th></th>\n",
       "      <th>AGREGACAO</th>\n",
       "      <th>IDHM</th>\n",
       "      <th>ESPVIDA</th>\n",
       "      <th>ANOSEST</th>\n",
       "      <th>Ano</th>\n",
       "    </tr>\n",
       "  </thead>\n",
       "  <tbody>\n",
       "    <tr>\n",
       "      <th>0</th>\n",
       "      <td>BRASIL</td>\n",
       "      <td>0.746</td>\n",
       "      <td>74.48</td>\n",
       "      <td>8.56</td>\n",
       "      <td>2012</td>\n",
       "    </tr>\n",
       "    <tr>\n",
       "      <th>1</th>\n",
       "      <td>BRASIL</td>\n",
       "      <td>0.753</td>\n",
       "      <td>74.80</td>\n",
       "      <td>8.69</td>\n",
       "      <td>2013</td>\n",
       "    </tr>\n",
       "    <tr>\n",
       "      <th>2</th>\n",
       "      <td>BRASIL</td>\n",
       "      <td>0.762</td>\n",
       "      <td>75.11</td>\n",
       "      <td>8.88</td>\n",
       "      <td>2014</td>\n",
       "    </tr>\n",
       "    <tr>\n",
       "      <th>3</th>\n",
       "      <td>BRASIL</td>\n",
       "      <td>0.765</td>\n",
       "      <td>75.40</td>\n",
       "      <td>9.03</td>\n",
       "      <td>2015</td>\n",
       "    </tr>\n",
       "    <tr>\n",
       "      <th>4</th>\n",
       "      <td>BRASIL</td>\n",
       "      <td>0.771</td>\n",
       "      <td>75.68</td>\n",
       "      <td>9.13</td>\n",
       "      <td>2016</td>\n",
       "    </tr>\n",
       "  </tbody>\n",
       "</table>\n",
       "</div>"
      ],
      "text/plain": [
       "  AGREGACAO   IDHM  ESPVIDA  ANOSEST   Ano\n",
       "0    BRASIL  0.746    74.48     8.56  2012\n",
       "1    BRASIL  0.753    74.80     8.69  2013\n",
       "2    BRASIL  0.762    75.11     8.88  2014\n",
       "3    BRASIL  0.765    75.40     9.03  2015\n",
       "4    BRASIL  0.771    75.68     9.13  2016"
      ]
     },
     "execution_count": 44,
     "metadata": {},
     "output_type": "execute_result"
    }
   ],
   "source": [
    "df_dim_soc_idh_BR.head()"
   ]
  },
  {
   "cell_type": "code",
   "execution_count": 45,
   "id": "66ccc08d-a2ab-47ae-9e9d-93cb58d08105",
   "metadata": {
    "tags": []
   },
   "outputs": [
    {
     "data": {
      "image/png": "[encoded data removed]",
      "text/plain": [
       "<Figure size 1200x600 with 1 Axes>"
      ]
     },
     "metadata": {},
     "output_type": "display_data"
    }
   ],
   "source": [
    "# Plotando o gráfico de linhas\n",
    "plt.figure(figsize=(12, 6))\n",
    "\n",
    "plt.plot(df_dim_soc_idh_BR['Ano'], df_dim_soc_idh_BR['ESPVIDA'])\n",
    "\n",
    "# Adicionando título e rótulos aos eixos\n",
    "plt.title('Esperança de Vida ao Nascer Brasil')\n",
    "plt.xlabel('Ano')\n",
    "plt.ylabel('ESPVIDA')\n",
    "plt.grid(True)\n",
    "\n",
    "plt.show()\n"
   ]
  },
  {
   "cell_type": "markdown",
   "id": "7d1f9c53-996d-4709-bb1b-b6f1fc913480",
   "metadata": {},
   "source": [
    "## Gráficos do indicador - Média de anos de estudo (IDH)"
   ]
  },
  {
   "cell_type": "code",
   "execution_count": 46,
   "id": "a60a2ec2-027c-4535-b5b0-466667d1a13a",
   "metadata": {
    "tags": []
   },
   "outputs": [
    {
     "data": {
      "text/html": [
       "<div>\n",
       "<style scoped>\n",
       "    .dataframe tbody tr th:only-of-type {\n",
       "        vertical-align: middle;\n",
       "    }\n",
       "\n",
       "    .dataframe tbody tr th {\n",
       "        vertical-align: top;\n",
       "    }\n",
       "\n",
       "    .dataframe thead th {\n",
       "        text-align: right;\n",
       "    }\n",
       "</style>\n",
       "<table border=\"1\" class=\"dataframe\">\n",
       "  <thead>\n",
       "    <tr style=\"text-align: right;\">\n",
       "      <th></th>\n",
       "      <th>AGREGACAO</th>\n",
       "      <th>IDHM</th>\n",
       "      <th>ESPVIDA</th>\n",
       "      <th>ANOSEST</th>\n",
       "      <th>Ano</th>\n",
       "    </tr>\n",
       "  </thead>\n",
       "  <tbody>\n",
       "    <tr>\n",
       "      <th>0</th>\n",
       "      <td>BRASIL</td>\n",
       "      <td>0.746</td>\n",
       "      <td>74.48</td>\n",
       "      <td>8.56</td>\n",
       "      <td>2012</td>\n",
       "    </tr>\n",
       "    <tr>\n",
       "      <th>1</th>\n",
       "      <td>BRASIL</td>\n",
       "      <td>0.753</td>\n",
       "      <td>74.80</td>\n",
       "      <td>8.69</td>\n",
       "      <td>2013</td>\n",
       "    </tr>\n",
       "    <tr>\n",
       "      <th>2</th>\n",
       "      <td>BRASIL</td>\n",
       "      <td>0.762</td>\n",
       "      <td>75.11</td>\n",
       "      <td>8.88</td>\n",
       "      <td>2014</td>\n",
       "    </tr>\n",
       "    <tr>\n",
       "      <th>3</th>\n",
       "      <td>BRASIL</td>\n",
       "      <td>0.765</td>\n",
       "      <td>75.40</td>\n",
       "      <td>9.03</td>\n",
       "      <td>2015</td>\n",
       "    </tr>\n",
       "    <tr>\n",
       "      <th>4</th>\n",
       "      <td>BRASIL</td>\n",
       "      <td>0.771</td>\n",
       "      <td>75.68</td>\n",
       "      <td>9.13</td>\n",
       "      <td>2016</td>\n",
       "    </tr>\n",
       "  </tbody>\n",
       "</table>\n",
       "</div>"
      ],
      "text/plain": [
       "  AGREGACAO   IDHM  ESPVIDA  ANOSEST   Ano\n",
       "0    BRASIL  0.746    74.48     8.56  2012\n",
       "1    BRASIL  0.753    74.80     8.69  2013\n",
       "2    BRASIL  0.762    75.11     8.88  2014\n",
       "3    BRASIL  0.765    75.40     9.03  2015\n",
       "4    BRASIL  0.771    75.68     9.13  2016"
      ]
     },
     "execution_count": 46,
     "metadata": {},
     "output_type": "execute_result"
    }
   ],
   "source": [
    "df_dim_soc_idh_BR.head()"
   ]
  },
  {
   "cell_type": "code",
   "execution_count": 47,
   "id": "17a0d19c-5ebf-493c-8686-62aa52e29edd",
   "metadata": {
    "tags": []
   },
   "outputs": [
    {
     "data": {
      "image/png": "[encoded data removed]",
      "text/plain": [
       "<Figure size 1200x600 with 1 Axes>"
      ]
     },
     "metadata": {},
     "output_type": "display_data"
    }
   ],
   "source": [
    "# Plotando o gráfico de linhas\n",
    "plt.figure(figsize=(12, 6))\n",
    "\n",
    "plt.plot(df_dim_soc_idh_BR['Ano'], df_dim_soc_idh_BR['ANOSEST'])\n",
    "\n",
    "# Adicionando título e rótulos aos eixos\n",
    "plt.title('Média de anos de estudo Brasil')\n",
    "plt.xlabel('Ano')\n",
    "plt.ylabel('ANOSEST')\n",
    "plt.grid(True)\n",
    "\n",
    "plt.show()\n"
   ]
  },
  {
   "cell_type": "code",
   "execution_count": 48,
   "id": "da0da922-169d-4f42-a59b-c3ec9e4cf868",
   "metadata": {
    "tags": []
   },
   "outputs": [
    {
     "name": "stdout",
     "output_type": "stream",
     "text": [
      "O caminho completo para o arquivo é: D:\\docs_mariana\\ProjetosGit\\Convergencia\\data_eurofound_BR\n"
     ]
    }
   ],
   "source": [
    "arquivo2 = \"data_eurofound_BR\"\n",
    "\n",
    "caminho_completo2 = os.path.abspath(arquivo2)\n",
    "print(\"O caminho completo para o arquivo é:\", caminho_completo2)"
   ]
  },
  {
   "cell_type": "code",
   "execution_count": 49,
   "id": "43324074-45d3-4627-b86b-8013e6e5c6a2",
   "metadata": {
    "tags": []
   },
   "outputs": [],
   "source": [
    "#criando arquivo csv final\n",
    "df_dim_soc_idh_BR.to_csv('D:\\docs_mariana\\ProjetosGit\\Convergencia\\data_eurofound_BR\\df_dim_soc_idh_BR.csv', encoding='UTF-8')"
   ]
  },
  {
   "cell_type": "markdown",
   "id": "244221eb-758d-4b69-9322-866649124873",
   "metadata": {},
   "source": [
    "# Indicadores do Censo"
   ]
  },
  {
   "cell_type": "code",
   "execution_count": 50,
   "id": "8b390ea7-bdd6-473e-9c83-f403670d66db",
   "metadata": {
    "tags": []
   },
   "outputs": [
    {
     "name": "stdout",
     "output_type": "stream",
     "text": [
      "O caminho completo para o arquivo é: D:\\docs_mariana\\ProjetosGit\\Convergencia\\Expectativa de estudo.xlsx\n"
     ]
    }
   ],
   "source": [
    "arquivo3 = \"Expectativa de estudo.xlsx\"\n",
    "\n",
    "caminho_completo3 = os.path.abspath(arquivo3)\n",
    "print(\"O caminho completo para o arquivo é:\", caminho_completo3)"
   ]
  },
  {
   "cell_type": "code",
   "execution_count": 51,
   "id": "436fb8cd-418d-4847-9bcf-7e0e25d6bbe8",
   "metadata": {
    "tags": []
   },
   "outputs": [],
   "source": [
    "exp_estudo_censo = pd.read_excel('D:\\docs_mariana\\ProjetosGit\\Convergencia\\Expectativa de estudo.xlsx')"
   ]
  },
  {
   "cell_type": "code",
   "execution_count": 55,
   "id": "e079e0d3-f592-4086-91bf-657970d2ceab",
   "metadata": {
    "tags": []
   },
   "outputs": [
    {
     "data": {
      "text/html": [
       "<div>\n",
       "<style scoped>\n",
       "    .dataframe tbody tr th:only-of-type {\n",
       "        vertical-align: middle;\n",
       "    }\n",
       "\n",
       "    .dataframe tbody tr th {\n",
       "        vertical-align: top;\n",
       "    }\n",
       "\n",
       "    .dataframe thead th {\n",
       "        text-align: right;\n",
       "    }\n",
       "</style>\n",
       "<table border=\"1\" class=\"dataframe\">\n",
       "  <thead>\n",
       "    <tr style=\"text-align: right;\">\n",
       "      <th></th>\n",
       "      <th>Territorialidades</th>\n",
       "      <th>Expectativa de anos de estudo aos 18 anos de idade 1991</th>\n",
       "      <th>Expectativa de anos de estudo aos 18 anos de idade 2000</th>\n",
       "      <th>Expectativa de anos de estudo aos 18 anos de idade 2010</th>\n",
       "    </tr>\n",
       "  </thead>\n",
       "  <tbody>\n",
       "    <tr>\n",
       "      <th>0</th>\n",
       "      <td>Brasil</td>\n",
       "      <td>8.16</td>\n",
       "      <td>8.76</td>\n",
       "      <td>9.54</td>\n",
       "    </tr>\n",
       "    <tr>\n",
       "      <th>1</th>\n",
       "      <td>Acre</td>\n",
       "      <td>6.56</td>\n",
       "      <td>6.77</td>\n",
       "      <td>8.69</td>\n",
       "    </tr>\n",
       "    <tr>\n",
       "      <th>2</th>\n",
       "      <td>Alagoas</td>\n",
       "      <td>6.62</td>\n",
       "      <td>6.54</td>\n",
       "      <td>9.07</td>\n",
       "    </tr>\n",
       "    <tr>\n",
       "      <th>3</th>\n",
       "      <td>Amapá</td>\n",
       "      <td>7.81</td>\n",
       "      <td>8.69</td>\n",
       "      <td>9.44</td>\n",
       "    </tr>\n",
       "    <tr>\n",
       "      <th>4</th>\n",
       "      <td>Amazonas</td>\n",
       "      <td>6.52</td>\n",
       "      <td>6.68</td>\n",
       "      <td>8.54</td>\n",
       "    </tr>\n",
       "  </tbody>\n",
       "</table>\n",
       "</div>"
      ],
      "text/plain": [
       "  Territorialidades Expectativa de anos de estudo aos 18 anos de idade 1991  \\\n",
       "0            Brasil                                               8.16        \n",
       "1              Acre                                               6.56        \n",
       "2           Alagoas                                               6.62        \n",
       "3             Amapá                                               7.81        \n",
       "4          Amazonas                                               6.52        \n",
       "\n",
       "   Expectativa de anos de estudo aos 18 anos de idade 2000  \\\n",
       "0                                               8.76         \n",
       "1                                               6.77         \n",
       "2                                               6.54         \n",
       "3                                               8.69         \n",
       "4                                               6.68         \n",
       "\n",
       "   Expectativa de anos de estudo aos 18 anos de idade 2010  \n",
       "0                                               9.54        \n",
       "1                                               8.69        \n",
       "2                                               9.07        \n",
       "3                                               9.44        \n",
       "4                                               8.54        "
      ]
     },
     "execution_count": 55,
     "metadata": {},
     "output_type": "execute_result"
    }
   ],
   "source": [
    "exp_estudo_censo.head()"
   ]
  },
  {
   "cell_type": "code",
   "execution_count": 56,
   "id": "570a4ffe-b3ed-4c60-8b09-f7c4770aa08b",
   "metadata": {
    "tags": []
   },
   "outputs": [],
   "source": [
    "# Filtrar linhas onde a coluna 'Territorialidades' contenha 'Brasil'\n",
    "exp_estudo_censo_BR = exp_estudo_censo[exp_estudo_censo['Territorialidades'] == 'Brasil']"
   ]
  },
  {
   "cell_type": "code",
   "execution_count": 57,
   "id": "3e85a0e5-8e03-4d5f-898a-9c6cda2afdc3",
   "metadata": {
    "tags": []
   },
   "outputs": [
    {
     "data": {
      "text/html": [
       "<div>\n",
       "<style scoped>\n",
       "    .dataframe tbody tr th:only-of-type {\n",
       "        vertical-align: middle;\n",
       "    }\n",
       "\n",
       "    .dataframe tbody tr th {\n",
       "        vertical-align: top;\n",
       "    }\n",
       "\n",
       "    .dataframe thead th {\n",
       "        text-align: right;\n",
       "    }\n",
       "</style>\n",
       "<table border=\"1\" class=\"dataframe\">\n",
       "  <thead>\n",
       "    <tr style=\"text-align: right;\">\n",
       "      <th></th>\n",
       "      <th>Territorialidades</th>\n",
       "      <th>Expectativa de anos de estudo aos 18 anos de idade 1991</th>\n",
       "      <th>Expectativa de anos de estudo aos 18 anos de idade 2000</th>\n",
       "      <th>Expectativa de anos de estudo aos 18 anos de idade 2010</th>\n",
       "    </tr>\n",
       "  </thead>\n",
       "  <tbody>\n",
       "    <tr>\n",
       "      <th>0</th>\n",
       "      <td>Brasil</td>\n",
       "      <td>8.16</td>\n",
       "      <td>8.76</td>\n",
       "      <td>9.54</td>\n",
       "    </tr>\n",
       "  </tbody>\n",
       "</table>\n",
       "</div>"
      ],
      "text/plain": [
       "  Territorialidades Expectativa de anos de estudo aos 18 anos de idade 1991  \\\n",
       "0            Brasil                                               8.16        \n",
       "\n",
       "   Expectativa de anos de estudo aos 18 anos de idade 2000  \\\n",
       "0                                               8.76         \n",
       "\n",
       "   Expectativa de anos de estudo aos 18 anos de idade 2010  \n",
       "0                                               9.54        "
      ]
     },
     "execution_count": 57,
     "metadata": {},
     "output_type": "execute_result"
    }
   ],
   "source": [
    "exp_estudo_censo_BR.head()"
   ]
  },
  {
   "cell_type": "code",
   "execution_count": 58,
   "id": "fc8ac7f3-aeff-4e34-86ac-d126197eb224",
   "metadata": {
    "tags": []
   },
   "outputs": [
    {
     "data": {
      "text/plain": [
       "Index(['Territorialidades',\n",
       "       'Expectativa de anos de estudo aos 18 anos de idade 1991',\n",
       "       'Expectativa de anos de estudo aos 18 anos de idade 2000',\n",
       "       'Expectativa de anos de estudo aos 18 anos de idade 2010'],\n",
       "      dtype='object')"
      ]
     },
     "execution_count": 58,
     "metadata": {},
     "output_type": "execute_result"
    }
   ],
   "source": [
    "exp_estudo_censo_BR.columns"
   ]
  },
  {
   "cell_type": "code",
   "execution_count": 59,
   "id": "ab58c6c4-7f36-4b34-b4bc-990e3e8ce523",
   "metadata": {
    "tags": []
   },
   "outputs": [],
   "source": [
    "exp_estudo_censo_BR = exp_estudo_censo_BR.rename(columns={'Expectativa de anos de estudo aos 18 anos de idade 1991': 'Exp_anos_est_91',\n",
    "       'Expectativa de anos de estudo aos 18 anos de idade 2000': 'Exp_anos_est_00',\n",
    "       'Expectativa de anos de estudo aos 18 anos de idade 2010': 'Exp_anos_est_10'})"
   ]
  },
  {
   "cell_type": "code",
   "execution_count": 60,
   "id": "bb7584cf-e5e1-42e0-9fe4-856aba609e0c",
   "metadata": {
    "tags": []
   },
   "outputs": [
    {
     "data": {
      "text/html": [
       "<div>\n",
       "<style scoped>\n",
       "    .dataframe tbody tr th:only-of-type {\n",
       "        vertical-align: middle;\n",
       "    }\n",
       "\n",
       "    .dataframe tbody tr th {\n",
       "        vertical-align: top;\n",
       "    }\n",
       "\n",
       "    .dataframe thead th {\n",
       "        text-align: right;\n",
       "    }\n",
       "</style>\n",
       "<table border=\"1\" class=\"dataframe\">\n",
       "  <thead>\n",
       "    <tr style=\"text-align: right;\">\n",
       "      <th></th>\n",
       "      <th>Territorialidades</th>\n",
       "      <th>Exp_anos_est_91</th>\n",
       "      <th>Exp_anos_est_00</th>\n",
       "      <th>Exp_anos_est_10</th>\n",
       "    </tr>\n",
       "  </thead>\n",
       "  <tbody>\n",
       "    <tr>\n",
       "      <th>0</th>\n",
       "      <td>Brasil</td>\n",
       "      <td>8.16</td>\n",
       "      <td>8.76</td>\n",
       "      <td>9.54</td>\n",
       "    </tr>\n",
       "  </tbody>\n",
       "</table>\n",
       "</div>"
      ],
      "text/plain": [
       "  Territorialidades Exp_anos_est_91  Exp_anos_est_00  Exp_anos_est_10\n",
       "0            Brasil            8.16             8.76             9.54"
      ]
     },
     "execution_count": 60,
     "metadata": {},
     "output_type": "execute_result"
    }
   ],
   "source": [
    "exp_estudo_censo_BR.head()"
   ]
  },
  {
   "cell_type": "code",
   "execution_count": 61,
   "id": "ca99a334-ff9e-487e-acb5-730757f5a4cf",
   "metadata": {
    "tags": []
   },
   "outputs": [
    {
     "data": {
      "text/plain": [
       "Index(['Territorialidades', 'Exp_anos_est_91', 'Exp_anos_est_00',\n",
       "       'Exp_anos_est_10'],\n",
       "      dtype='object')"
      ]
     },
     "execution_count": 61,
     "metadata": {},
     "output_type": "execute_result"
    }
   ],
   "source": [
    "exp_estudo_censo_BR.columns"
   ]
  },
  {
   "cell_type": "code",
   "execution_count": 62,
   "id": "32f26968-8c72-48f6-a6e6-c453526c1a19",
   "metadata": {
    "tags": []
   },
   "outputs": [],
   "source": [
    "exp_estudo_censo_BR = exp_estudo_censo_BR.rename(columns={'Exp_anos_est_91': '1991',\n",
    "       'Exp_anos_est_00' : '2000', 'Exp_anos_est_10' : '2010'})"
   ]
  },
  {
   "cell_type": "code",
   "execution_count": 63,
   "id": "41140f2d-18c8-4225-bbc9-78ce432cc39e",
   "metadata": {
    "tags": []
   },
   "outputs": [
    {
     "data": {
      "text/html": [
       "<div>\n",
       "<style scoped>\n",
       "    .dataframe tbody tr th:only-of-type {\n",
       "        vertical-align: middle;\n",
       "    }\n",
       "\n",
       "    .dataframe tbody tr th {\n",
       "        vertical-align: top;\n",
       "    }\n",
       "\n",
       "    .dataframe thead th {\n",
       "        text-align: right;\n",
       "    }\n",
       "</style>\n",
       "<table border=\"1\" class=\"dataframe\">\n",
       "  <thead>\n",
       "    <tr style=\"text-align: right;\">\n",
       "      <th></th>\n",
       "      <th>Territorialidades</th>\n",
       "      <th>1991</th>\n",
       "      <th>2000</th>\n",
       "      <th>2010</th>\n",
       "    </tr>\n",
       "  </thead>\n",
       "  <tbody>\n",
       "    <tr>\n",
       "      <th>0</th>\n",
       "      <td>Brasil</td>\n",
       "      <td>8.16</td>\n",
       "      <td>8.76</td>\n",
       "      <td>9.54</td>\n",
       "    </tr>\n",
       "  </tbody>\n",
       "</table>\n",
       "</div>"
      ],
      "text/plain": [
       "  Territorialidades  1991  2000  2010\n",
       "0            Brasil  8.16  8.76  9.54"
      ]
     },
     "execution_count": 63,
     "metadata": {},
     "output_type": "execute_result"
    }
   ],
   "source": [
    "exp_estudo_censo_BR.tail()"
   ]
  },
  {
   "cell_type": "code",
   "execution_count": 64,
   "id": "e85440b2-1a4c-4413-bba2-2dad6c442b77",
   "metadata": {
    "tags": []
   },
   "outputs": [
    {
     "data": {
      "text/html": [
       "<div>\n",
       "<style scoped>\n",
       "    .dataframe tbody tr th:only-of-type {\n",
       "        vertical-align: middle;\n",
       "    }\n",
       "\n",
       "    .dataframe tbody tr th {\n",
       "        vertical-align: top;\n",
       "    }\n",
       "\n",
       "    .dataframe thead th {\n",
       "        text-align: right;\n",
       "    }\n",
       "</style>\n",
       "<table border=\"1\" class=\"dataframe\">\n",
       "  <thead>\n",
       "    <tr style=\"text-align: right;\">\n",
       "      <th></th>\n",
       "      <th>Territorialidades</th>\n",
       "      <th>Ano</th>\n",
       "      <th>Expect_est</th>\n",
       "    </tr>\n",
       "  </thead>\n",
       "  <tbody>\n",
       "    <tr>\n",
       "      <th>0</th>\n",
       "      <td>Brasil</td>\n",
       "      <td>1991</td>\n",
       "      <td>8.16</td>\n",
       "    </tr>\n",
       "    <tr>\n",
       "      <th>1</th>\n",
       "      <td>Brasil</td>\n",
       "      <td>2000</td>\n",
       "      <td>8.76</td>\n",
       "    </tr>\n",
       "    <tr>\n",
       "      <th>2</th>\n",
       "      <td>Brasil</td>\n",
       "      <td>2010</td>\n",
       "      <td>9.54</td>\n",
       "    </tr>\n",
       "  </tbody>\n",
       "</table>\n",
       "</div>"
      ],
      "text/plain": [
       "  Territorialidades   Ano Expect_est\n",
       "0            Brasil  1991       8.16\n",
       "1            Brasil  2000       8.76\n",
       "2            Brasil  2010       9.54"
      ]
     },
     "execution_count": 64,
     "metadata": {},
     "output_type": "execute_result"
    }
   ],
   "source": [
    "exp_estudo_censo_BR = exp_estudo_censo_BR.melt(id_vars=['Territorialidades'], var_name='Ano', value_name='Expect_est')\n",
    "exp_estudo_censo_BR.head()"
   ]
  },
  {
   "cell_type": "code",
   "execution_count": 65,
   "id": "bf772aaa-9ede-4c7d-8283-4128bf0ecb25",
   "metadata": {
    "tags": []
   },
   "outputs": [
    {
     "name": "stdout",
     "output_type": "stream",
     "text": [
      "<class 'pandas.core.frame.DataFrame'>\n",
      "RangeIndex: 3 entries, 0 to 2\n",
      "Data columns (total 3 columns):\n",
      " #   Column             Non-Null Count  Dtype \n",
      "---  ------             --------------  ----- \n",
      " 0   Territorialidades  3 non-null      object\n",
      " 1   Ano                3 non-null      object\n",
      " 2   Expect_est         3 non-null      object\n",
      "dtypes: object(3)\n",
      "memory usage: 204.0+ bytes\n"
     ]
    }
   ],
   "source": [
    "exp_estudo_censo_BR.info()"
   ]
  },
  {
   "cell_type": "code",
   "execution_count": 66,
   "id": "f0ee0a86-3cc6-457d-8817-ac79cd7b5085",
   "metadata": {
    "tags": []
   },
   "outputs": [
    {
     "data": {
      "text/html": [
       "<div>\n",
       "<style scoped>\n",
       "    .dataframe tbody tr th:only-of-type {\n",
       "        vertical-align: middle;\n",
       "    }\n",
       "\n",
       "    .dataframe tbody tr th {\n",
       "        vertical-align: top;\n",
       "    }\n",
       "\n",
       "    .dataframe thead th {\n",
       "        text-align: right;\n",
       "    }\n",
       "</style>\n",
       "<table border=\"1\" class=\"dataframe\">\n",
       "  <thead>\n",
       "    <tr style=\"text-align: right;\">\n",
       "      <th></th>\n",
       "      <th>Territorialidades</th>\n",
       "      <th>Ano</th>\n",
       "      <th>Expect_est</th>\n",
       "    </tr>\n",
       "  </thead>\n",
       "  <tbody>\n",
       "    <tr>\n",
       "      <th>0</th>\n",
       "      <td>Brasil</td>\n",
       "      <td>1991</td>\n",
       "      <td>8.16</td>\n",
       "    </tr>\n",
       "    <tr>\n",
       "      <th>1</th>\n",
       "      <td>Brasil</td>\n",
       "      <td>2000</td>\n",
       "      <td>8.76</td>\n",
       "    </tr>\n",
       "    <tr>\n",
       "      <th>2</th>\n",
       "      <td>Brasil</td>\n",
       "      <td>2010</td>\n",
       "      <td>9.54</td>\n",
       "    </tr>\n",
       "  </tbody>\n",
       "</table>\n",
       "</div>"
      ],
      "text/plain": [
       "  Territorialidades   Ano Expect_est\n",
       "0            Brasil  1991       8.16\n",
       "1            Brasil  2000       8.76\n",
       "2            Brasil  2010       9.54"
      ]
     },
     "execution_count": 66,
     "metadata": {},
     "output_type": "execute_result"
    }
   ],
   "source": [
    "exp_estudo_censo_BR.tail()"
   ]
  },
  {
   "cell_type": "code",
   "execution_count": 68,
   "id": "05fa7ad5-05d1-4141-97fb-78b48c4f6801",
   "metadata": {
    "tags": []
   },
   "outputs": [
    {
     "name": "stdout",
     "output_type": "stream",
     "text": [
      "<class 'pandas.core.frame.DataFrame'>\n",
      "RangeIndex: 3 entries, 0 to 2\n",
      "Data columns (total 3 columns):\n",
      " #   Column             Non-Null Count  Dtype \n",
      "---  ------             --------------  ----- \n",
      " 0   Territorialidades  3 non-null      object\n",
      " 1   Ano                3 non-null      object\n",
      " 2   Expect_est         3 non-null      object\n",
      "dtypes: object(3)\n",
      "memory usage: 204.0+ bytes\n"
     ]
    }
   ],
   "source": [
    "exp_estudo_censo_BR.info()"
   ]
  },
  {
   "cell_type": "code",
   "execution_count": 69,
   "id": "a2e13b7a-152e-48d0-a463-69c49d7ede26",
   "metadata": {
    "tags": []
   },
   "outputs": [
    {
     "data": {
      "image/png": "[encoded data removed]",
      "text/plain": [
       "<Figure size 1200x600 with 1 Axes>"
      ]
     },
     "metadata": {},
     "output_type": "display_data"
    }
   ],
   "source": [
    "# Plotando o gráfico de linhas\n",
    "plt.figure(figsize=(12, 6))\n",
    "\n",
    "plt.plot(exp_estudo_censo_BR['Ano'], exp_estudo_censo_BR['Expect_est'])\n",
    "\n",
    "# Adicionando título e rótulos aos eixos\n",
    "plt.title('Expectativa de anos de estudo segundo o Censo')\n",
    "plt.xlabel('Ano')\n",
    "plt.ylabel('Expect_est')\n",
    "plt.grid(True)\n",
    "\n",
    "plt.show()\n"
   ]
  },
  {
   "cell_type": "code",
   "execution_count": 70,
   "id": "2d28b06d-5050-4606-bdd5-dff7f85c7a55",
   "metadata": {
    "tags": []
   },
   "outputs": [],
   "source": [
    "#criando arquivo csv final\n",
    "exp_estudo_censo_BR.to_csv('D:\\docs_mariana\\ProjetosGit\\Convergencia\\data_eurofound_BR\\exp_estudo_censo_BR.csv', encoding='UTF-8')"
   ]
  }
 ],
 "metadata": {
  "kernelspec": {
   "display_name": "Python 3 (ipykernel)",
   "language": "python",
   "name": "python3"
  },
  "language_info": {
   "codemirror_mode": {
    "name": "ipython",
    "version": 3
   },
   "file_extension": ".py",
   "mimetype": "text/x-python",
   "name": "python",
   "nbconvert_exporter": "python",
   "pygments_lexer": "ipython3",
   "version": "3.11.4"
  }
 },
 "nbformat": 4,
 "nbformat_minor": 5
}
