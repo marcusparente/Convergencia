{
 "cells": [
  {
   "cell_type": "code",
   "execution_count": null,
   "metadata": {
    "id": "gSfs95NlXHCo"
   },
   "outputs": [],
   "source": [
    "DF.rename(columns = {'Acre' : '12', 'Alagoas' : '27', 'Amazonas' : '13', 'Amapá' : '16', 'Bahia' : '29', 'Ceará' : '23', 'Distrito Federal' : '53', 'Espírito Santo' : '32', 'Goiás' : '52', 'Maranhão' : '21', \"Minas Gerais\" : '31', 'Mato Grosso do Sul' : '50', 'Mato Grosso' : '51', 'Pará' : '15', 'Paraíba' : '25', 'Pernambuco' : '26', 'Piauí' : '22', 'Paraná' : '41', 'Rio de Janeiro' : '33', 'Rio Grande do Norte' : '24', 'Rondônia' : '11', 'Roraima' : '14', 'Rio Grande do Sul' : '43', 'Santa Catarina' : '42', 'Sergipe' : '28', 'São Paulo' : '35', 'Tocantins' : '17'}, inplace = True)\n",
    "print(df)"
   ]
  }
 ],
 "metadata": {
  "colab": {
   "provenance": []
  },
  "kernelspec": {
   "display_name": "Python 3 (ipykernel)",
   "language": "python",
   "name": "python3"
  },
  "language_info": {
   "codemirror_mode": {
    "name": "ipython",
    "version": 3
   },
   "file_extension": ".py",
   "mimetype": "text/x-python",
   "name": "python",
   "nbconvert_exporter": "python",
   "pygments_lexer": "ipython3",
   "version": "3.11.4"
  }
 },
 "nbformat": 4,
 "nbformat_minor": 4
}
