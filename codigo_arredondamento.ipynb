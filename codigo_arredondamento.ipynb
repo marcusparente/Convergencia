{
 "cells": [
  {
   "cell_type": "code",
   "execution_count": null,
   "metadata": {
    "id": "P0tWOOZ2vMCR"
   },
   "outputs": [],
   "source": [
    "colunas_arredondar = ['12', '27', '13', '16', '29', '23', '53', '32', '52', '21',\n",
    "       '31', '50', '51', '15', '25', '26', '22', '41', '33', '24', '11', '14',\n",
    "       '43', '42', '28', '35', '17']\n",
    "df[colunas_arredondar] = df[colunas_arredondar].round(1)"
   ]
  }
 ],
 "metadata": {
  "colab": {
   "provenance": []
  },
  "kernelspec": {
   "display_name": "Python 3 (ipykernel)",
   "language": "python",
   "name": "python3"
  },
  "language_info": {
   "codemirror_mode": {
    "name": "ipython",
    "version": 3
   },
   "file_extension": ".py",
   "mimetype": "text/x-python",
   "name": "python",
   "nbconvert_exporter": "python",
   "pygments_lexer": "ipython3",
   "version": "3.11.4"
  }
 },
 "nbformat": 4,
 "nbformat_minor": 4
}
